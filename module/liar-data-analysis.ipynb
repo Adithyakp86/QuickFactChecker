{
 "cells": [
  {
   "cell_type": "markdown",
   "metadata": {},
   "source": [
    "# LIAR Dataset\n",
    "* https://www.politifact.com/\n",
    "* https://paperswithcode.com/about\n",
    "* https://paperswithcode.com/paper/liar-liar-pants-on-fire-a-new-benchmark\n",
    "* https://paperswithcode.com/dataset/liar\n",
    "\n",
    "_LIAR is a publicly available dataset for fake news detection. A decade-long of 12.8K manually labeled short statements were collected in various contexts from POLITIFACT.COM, which provides detailed analysis report and links to source documents for each case. This dataset can be used for fact-checking research as well. Notably, this new dataset is an order of magnitude larger than previously largest public fake news datasets of similar type. The LIAR dataset4 includes 12.8K human labeled short statements from POLITIFACT.COM’s API, and each statement is evaluated by a POLITIFACT.COM editor for its truthfulness._"
   ]
  },
  {
   "cell_type": "code",
   "execution_count": 3,
   "metadata": {
    "execution": {
     "iopub.execute_input": "2024-06-11T20:31:50.808073Z",
     "iopub.status.busy": "2024-06-11T20:31:50.807704Z",
     "iopub.status.idle": "2024-06-11T20:31:50.822449Z",
     "shell.execute_reply": "2024-06-11T20:31:50.821289Z",
     "shell.execute_reply.started": "2024-06-11T20:31:50.808041Z"
    },
    "trusted": true
   },
   "outputs": [
    {
     "name": "stdout",
     "output_type": "stream",
     "text": [
      "LIAR: A BENCHMARK DATASET FOR FAKE NEWS DETECTION\n",
      "\n",
      "William Yang Wang, \"Liar, Liar Pants on Fire\": A New Benchmark Dataset for Fake News Detection, to appear in Proceedings of the 55th Annual Meeting of the Association for Computational Linguistics (ACL 2017), short paper, Vancouver, BC, Canada, July 30-August 4, ACL.\n",
      "=====================================================================\n",
      "Description of the TSV format:\n",
      "\n",
      "Column 1: the ID of the statement ([ID].json).\n",
      "Column 2: the label.\n",
      "Column 3: the statement.\n",
      "Column 4: the subject(s).\n",
      "Column 5: the speaker.\n",
      "Column 6: the speaker's job title.\n",
      "Column 7: the state info.\n",
      "Column 8: the party affiliation.\n",
      "Column 9-13: the total credit history count, including the current statement.\n",
      "9: barely true counts.\n",
      "10: false counts.\n",
      "11: half true counts.\n",
      "12: mostly true counts.\n",
      "13: pants on fire counts.\n",
      "Column 14: the context (venue / location of the speech or statement).\n",
      "\n",
      "Note that we do not provide the full-text verdict report in this current version of the dataset,\n",
      "but you can use the following command to access the full verdict report and links to the source documents:\n",
      "wget http://www.politifact.com//api/v/2/statement/[ID]/?format=json\n",
      "\n",
      "======================================================================\n",
      "The original sources retain the copyright of the data.\n",
      "\n",
      "Note that there are absolutely no guarantees with this data,\n",
      "and we provide this dataset \"as is\",\n",
      "but you are welcome to report the issues of the preliminary version\n",
      "of this data.\n",
      "\n",
      "You are allowed to use this dataset for research purposes only.\n",
      "\n",
      "For more question about the dataset, please contact:\n",
      "William Wang, william@cs.ucsb.edu\n",
      "\n",
      "v1.0 04/23/2017\n",
      "\n"
     ]
    }
   ],
   "source": [
    "for line in open('/kaggle/input/liar-fake-news-dataset/README', 'r').readlines():\n",
    "    print(line.strip('\\n'))"
   ]
  },
  {
   "cell_type": "markdown",
   "metadata": {},
   "source": [
    "# Data Ingestion\n",
    "\n",
    "`pandas` is an open-source python library built for data manipulation and analysis. It is part of the standard library for many teams of data scientists and engineers. Sponsored by [NumFOCUS](https://numfocus.org/), `pandas` is used by academics researchers and private industry for importing and cleansing data, transforming data, creating visualizations, time-series analysis, machine learning, etc... (the list goes on...)\n",
    "\n",
    "`pandas` introduces new types (e.g. `pandas.DataFrame`, `pandas.Series`) that have special syntax for data manipulation that are not shared with python's builtin types (e.g. `list`, `dict`). Some of the new syntax can look jarring at first, but is _lingua franca_ for many data researchers.\n",
    "\n"
   ]
  },
  {
   "cell_type": "code",
   "execution_count": 4,
   "metadata": {
    "execution": {
     "iopub.execute_input": "2024-06-11T20:31:56.463088Z",
     "iopub.status.busy": "2024-06-11T20:31:56.462746Z",
     "iopub.status.idle": "2024-06-11T20:31:56.467793Z",
     "shell.execute_reply": "2024-06-11T20:31:56.466428Z",
     "shell.execute_reply.started": "2024-06-11T20:31:56.463057Z"
    },
    "trusted": true
   },
   "outputs": [],
   "source": [
    "import pandas as pd # https://pandas.pydata.org/"
   ]
  },
  {
   "cell_type": "code",
   "execution_count": 5,
   "metadata": {
    "execution": {
     "iopub.execute_input": "2024-06-11T20:32:08.316772Z",
     "iopub.status.busy": "2024-06-11T20:32:08.316396Z",
     "iopub.status.idle": "2024-06-11T20:32:08.429484Z",
     "shell.execute_reply": "2024-06-11T20:32:08.428624Z",
     "shell.execute_reply.started": "2024-06-11T20:32:08.316737Z"
    },
    "trusted": true
   },
   "outputs": [],
   "source": [
    "def read_dataframe(tsv_file: str) -> pd.DataFrame:\n",
    "    \n",
    "    # creates a \"dataframe\" or \"df\" for short. This is similar to a 2-D python dict.\n",
    "    df = pd.read_csv(tsv_file, delimiter='\\t', dtype=object)\n",
    "    \n",
    "    # replaces all \"null\" or \"NaN\" values with an empty string\n",
    "    df.fillna(\"\", inplace=True)\n",
    "    \n",
    "    # labels the columns in the dataset using the data dictionary described in the README\n",
    "    df.columns = [\n",
    "        'id',                # Column 1: the ID of the statement ([ID].json).\n",
    "        'label',             # Column 2: the label.\n",
    "        'statement',         # Column 3: the statement.\n",
    "        'subjects',          # Column 4: the subject(s).\n",
    "        'speaker',           # Column 5: the speaker.\n",
    "        'speaker_job_title', # Column 6: the speaker's job title.\n",
    "        'state_info',        # Column 7: the state info.\n",
    "        'party_affiliation', # Column 8: the party affiliation.\n",
    "        \n",
    "        # Column 9-13: the total credit history count, including the current statement.\n",
    "        'count_1', # barely true counts.\n",
    "        'count_2', # false counts.\n",
    "        'count_3', # half true counts.\n",
    "        'count_4', # mostly true counts.\n",
    "        'count_5', # pants on fire counts.\n",
    "        \n",
    "        'context' # Column 14: the context (venue / location of the speech or statement).\n",
    "    ]\n",
    "    \n",
    "    return df\n",
    "\n",
    "#create a dataframe from the training data\n",
    "df = read_dataframe('/kaggle/input/liar-fake-news-dataset/train.tsv')"
   ]
  },
  {
   "cell_type": "code",
   "execution_count": 6,
   "metadata": {
    "execution": {
     "iopub.execute_input": "2024-06-11T20:32:13.851213Z",
     "iopub.status.busy": "2024-06-11T20:32:13.850859Z",
     "iopub.status.idle": "2024-06-11T20:32:13.895477Z",
     "shell.execute_reply": "2024-06-11T20:32:13.894410Z",
     "shell.execute_reply.started": "2024-06-11T20:32:13.851183Z"
    },
    "trusted": true
   },
   "outputs": [
    {
     "name": "stdout",
     "output_type": "stream",
     "text": [
      "<class 'pandas.core.frame.DataFrame'>\n",
      "RangeIndex: 10239 entries, 0 to 10238\n",
      "Data columns (total 14 columns):\n",
      " #   Column             Non-Null Count  Dtype \n",
      "---  ------             --------------  ----- \n",
      " 0   id                 10239 non-null  object\n",
      " 1   label              10239 non-null  object\n",
      " 2   statement          10239 non-null  object\n",
      " 3   subjects           10239 non-null  object\n",
      " 4   speaker            10239 non-null  object\n",
      " 5   speaker_job_title  10239 non-null  object\n",
      " 6   state_info         10239 non-null  object\n",
      " 7   party_affiliation  10239 non-null  object\n",
      " 8   count_1            10239 non-null  object\n",
      " 9   count_2            10239 non-null  object\n",
      " 10  count_3            10239 non-null  object\n",
      " 11  count_4            10239 non-null  object\n",
      " 12  count_5            10239 non-null  object\n",
      " 13  context            10239 non-null  object\n",
      "dtypes: object(14)\n",
      "memory usage: 1.1+ MB\n"
     ]
    }
   ],
   "source": [
    "df.info()"
   ]
  },
  {
   "cell_type": "code",
   "execution_count": 7,
   "metadata": {
    "execution": {
     "iopub.execute_input": "2024-06-11T20:32:15.471992Z",
     "iopub.status.busy": "2024-06-11T20:32:15.471638Z",
     "iopub.status.idle": "2024-06-11T20:32:15.503615Z",
     "shell.execute_reply": "2024-06-11T20:32:15.502600Z",
     "shell.execute_reply.started": "2024-06-11T20:32:15.471959Z"
    },
    "trusted": true
   },
   "outputs": [
    {
     "data": {
      "text/html": [
       "<div>\n",
       "<style scoped>\n",
       "    .dataframe tbody tr th:only-of-type {\n",
       "        vertical-align: middle;\n",
       "    }\n",
       "\n",
       "    .dataframe tbody tr th {\n",
       "        vertical-align: top;\n",
       "    }\n",
       "\n",
       "    .dataframe thead th {\n",
       "        text-align: right;\n",
       "    }\n",
       "</style>\n",
       "<table border=\"1\" class=\"dataframe\">\n",
       "  <thead>\n",
       "    <tr style=\"text-align: right;\">\n",
       "      <th></th>\n",
       "      <th>id</th>\n",
       "      <th>label</th>\n",
       "      <th>statement</th>\n",
       "      <th>subjects</th>\n",
       "      <th>speaker</th>\n",
       "      <th>speaker_job_title</th>\n",
       "      <th>state_info</th>\n",
       "      <th>party_affiliation</th>\n",
       "      <th>count_1</th>\n",
       "      <th>count_2</th>\n",
       "      <th>count_3</th>\n",
       "      <th>count_4</th>\n",
       "      <th>count_5</th>\n",
       "      <th>context</th>\n",
       "    </tr>\n",
       "  </thead>\n",
       "  <tbody>\n",
       "    <tr>\n",
       "      <th>0</th>\n",
       "      <td>10540.json</td>\n",
       "      <td>half-true</td>\n",
       "      <td>When did the decline of coal start? It started...</td>\n",
       "      <td>energy,history,job-accomplishments</td>\n",
       "      <td>scott-surovell</td>\n",
       "      <td>State delegate</td>\n",
       "      <td>Virginia</td>\n",
       "      <td>democrat</td>\n",
       "      <td>0</td>\n",
       "      <td>0</td>\n",
       "      <td>1</td>\n",
       "      <td>1</td>\n",
       "      <td>0</td>\n",
       "      <td>a floor speech.</td>\n",
       "    </tr>\n",
       "    <tr>\n",
       "      <th>1</th>\n",
       "      <td>324.json</td>\n",
       "      <td>mostly-true</td>\n",
       "      <td>Hillary Clinton agrees with John McCain \"by vo...</td>\n",
       "      <td>foreign-policy</td>\n",
       "      <td>barack-obama</td>\n",
       "      <td>President</td>\n",
       "      <td>Illinois</td>\n",
       "      <td>democrat</td>\n",
       "      <td>70</td>\n",
       "      <td>71</td>\n",
       "      <td>160</td>\n",
       "      <td>163</td>\n",
       "      <td>9</td>\n",
       "      <td>Denver</td>\n",
       "    </tr>\n",
       "    <tr>\n",
       "      <th>2</th>\n",
       "      <td>1123.json</td>\n",
       "      <td>false</td>\n",
       "      <td>Health care reform legislation is likely to ma...</td>\n",
       "      <td>health-care</td>\n",
       "      <td>blog-posting</td>\n",
       "      <td></td>\n",
       "      <td></td>\n",
       "      <td>none</td>\n",
       "      <td>7</td>\n",
       "      <td>19</td>\n",
       "      <td>3</td>\n",
       "      <td>5</td>\n",
       "      <td>44</td>\n",
       "      <td>a news release</td>\n",
       "    </tr>\n",
       "    <tr>\n",
       "      <th>3</th>\n",
       "      <td>9028.json</td>\n",
       "      <td>half-true</td>\n",
       "      <td>The economic turnaround started at the end of ...</td>\n",
       "      <td>economy,jobs</td>\n",
       "      <td>charlie-crist</td>\n",
       "      <td></td>\n",
       "      <td>Florida</td>\n",
       "      <td>democrat</td>\n",
       "      <td>15</td>\n",
       "      <td>9</td>\n",
       "      <td>20</td>\n",
       "      <td>19</td>\n",
       "      <td>2</td>\n",
       "      <td>an interview on CNN</td>\n",
       "    </tr>\n",
       "    <tr>\n",
       "      <th>4</th>\n",
       "      <td>12465.json</td>\n",
       "      <td>true</td>\n",
       "      <td>The Chicago Bears have had more starting quart...</td>\n",
       "      <td>education</td>\n",
       "      <td>robin-vos</td>\n",
       "      <td>Wisconsin Assembly speaker</td>\n",
       "      <td>Wisconsin</td>\n",
       "      <td>republican</td>\n",
       "      <td>0</td>\n",
       "      <td>3</td>\n",
       "      <td>2</td>\n",
       "      <td>5</td>\n",
       "      <td>1</td>\n",
       "      <td>a an online opinion-piece</td>\n",
       "    </tr>\n",
       "    <tr>\n",
       "      <th>5</th>\n",
       "      <td>2342.json</td>\n",
       "      <td>barely-true</td>\n",
       "      <td>Jim Dunnam has not lived in the district he re...</td>\n",
       "      <td>candidates-biography</td>\n",
       "      <td>republican-party-texas</td>\n",
       "      <td></td>\n",
       "      <td>Texas</td>\n",
       "      <td>republican</td>\n",
       "      <td>3</td>\n",
       "      <td>1</td>\n",
       "      <td>1</td>\n",
       "      <td>3</td>\n",
       "      <td>1</td>\n",
       "      <td>a press release.</td>\n",
       "    </tr>\n",
       "    <tr>\n",
       "      <th>6</th>\n",
       "      <td>153.json</td>\n",
       "      <td>half-true</td>\n",
       "      <td>I'm the only person on this stage who has work...</td>\n",
       "      <td>ethics</td>\n",
       "      <td>barack-obama</td>\n",
       "      <td>President</td>\n",
       "      <td>Illinois</td>\n",
       "      <td>democrat</td>\n",
       "      <td>70</td>\n",
       "      <td>71</td>\n",
       "      <td>160</td>\n",
       "      <td>163</td>\n",
       "      <td>9</td>\n",
       "      <td>a Democratic debate in Philadelphia, Pa.</td>\n",
       "    </tr>\n",
       "    <tr>\n",
       "      <th>7</th>\n",
       "      <td>5602.json</td>\n",
       "      <td>half-true</td>\n",
       "      <td>However, it took $19.5 million in Oregon Lotte...</td>\n",
       "      <td>jobs</td>\n",
       "      <td>oregon-lottery</td>\n",
       "      <td></td>\n",
       "      <td></td>\n",
       "      <td>organization</td>\n",
       "      <td>0</td>\n",
       "      <td>0</td>\n",
       "      <td>1</td>\n",
       "      <td>0</td>\n",
       "      <td>1</td>\n",
       "      <td>a website</td>\n",
       "    </tr>\n",
       "    <tr>\n",
       "      <th>8</th>\n",
       "      <td>9741.json</td>\n",
       "      <td>mostly-true</td>\n",
       "      <td>Says GOP primary opponents Glenn Grothman and ...</td>\n",
       "      <td>energy,message-machine-2014,voting-record</td>\n",
       "      <td>duey-stroebel</td>\n",
       "      <td>State representative</td>\n",
       "      <td>Wisconsin</td>\n",
       "      <td>republican</td>\n",
       "      <td>0</td>\n",
       "      <td>0</td>\n",
       "      <td>0</td>\n",
       "      <td>1</td>\n",
       "      <td>0</td>\n",
       "      <td>an online video</td>\n",
       "    </tr>\n",
       "    <tr>\n",
       "      <th>9</th>\n",
       "      <td>7115.json</td>\n",
       "      <td>mostly-true</td>\n",
       "      <td>For the first time in history, the share of th...</td>\n",
       "      <td>elections</td>\n",
       "      <td>robert-menendez</td>\n",
       "      <td>U.S. Senator</td>\n",
       "      <td>New Jersey</td>\n",
       "      <td>democrat</td>\n",
       "      <td>1</td>\n",
       "      <td>3</td>\n",
       "      <td>1</td>\n",
       "      <td>3</td>\n",
       "      <td>0</td>\n",
       "      <td>a speech</td>\n",
       "    </tr>\n",
       "  </tbody>\n",
       "</table>\n",
       "</div>"
      ],
      "text/plain": [
       "           id        label                                          statement  \\\n",
       "0  10540.json    half-true  When did the decline of coal start? It started...   \n",
       "1    324.json  mostly-true  Hillary Clinton agrees with John McCain \"by vo...   \n",
       "2   1123.json        false  Health care reform legislation is likely to ma...   \n",
       "3   9028.json    half-true  The economic turnaround started at the end of ...   \n",
       "4  12465.json         true  The Chicago Bears have had more starting quart...   \n",
       "5   2342.json  barely-true  Jim Dunnam has not lived in the district he re...   \n",
       "6    153.json    half-true  I'm the only person on this stage who has work...   \n",
       "7   5602.json    half-true  However, it took $19.5 million in Oregon Lotte...   \n",
       "8   9741.json  mostly-true  Says GOP primary opponents Glenn Grothman and ...   \n",
       "9   7115.json  mostly-true  For the first time in history, the share of th...   \n",
       "\n",
       "                                    subjects                 speaker  \\\n",
       "0         energy,history,job-accomplishments          scott-surovell   \n",
       "1                             foreign-policy            barack-obama   \n",
       "2                                health-care            blog-posting   \n",
       "3                               economy,jobs           charlie-crist   \n",
       "4                                  education               robin-vos   \n",
       "5                       candidates-biography  republican-party-texas   \n",
       "6                                     ethics            barack-obama   \n",
       "7                                       jobs          oregon-lottery   \n",
       "8  energy,message-machine-2014,voting-record           duey-stroebel   \n",
       "9                                  elections         robert-menendez   \n",
       "\n",
       "            speaker_job_title  state_info party_affiliation count_1 count_2  \\\n",
       "0              State delegate    Virginia          democrat       0       0   \n",
       "1                   President    Illinois          democrat      70      71   \n",
       "2                                                      none       7      19   \n",
       "3                                 Florida          democrat      15       9   \n",
       "4  Wisconsin Assembly speaker   Wisconsin        republican       0       3   \n",
       "5                                   Texas        republican       3       1   \n",
       "6                   President    Illinois          democrat      70      71   \n",
       "7                                              organization       0       0   \n",
       "8        State representative   Wisconsin        republican       0       0   \n",
       "9                U.S. Senator  New Jersey          democrat       1       3   \n",
       "\n",
       "  count_3 count_4 count_5                                   context  \n",
       "0       1       1       0                           a floor speech.  \n",
       "1     160     163       9                                    Denver  \n",
       "2       3       5      44                            a news release  \n",
       "3      20      19       2                       an interview on CNN  \n",
       "4       2       5       1                 a an online opinion-piece  \n",
       "5       1       3       1                          a press release.  \n",
       "6     160     163       9  a Democratic debate in Philadelphia, Pa.  \n",
       "7       1       0       1                                a website   \n",
       "8       0       1       0                           an online video  \n",
       "9       1       3       0                                  a speech  "
      ]
     },
     "execution_count": 7,
     "metadata": {},
     "output_type": "execute_result"
    }
   ],
   "source": [
    "df.head(10)"
   ]
  },
  {
   "cell_type": "code",
   "execution_count": 8,
   "metadata": {
    "execution": {
     "iopub.execute_input": "2024-06-11T20:32:17.592091Z",
     "iopub.status.busy": "2024-06-11T20:32:17.591734Z",
     "iopub.status.idle": "2024-06-11T20:32:17.597401Z",
     "shell.execute_reply": "2024-06-11T20:32:17.596356Z",
     "shell.execute_reply.started": "2024-06-11T20:32:17.592061Z"
    },
    "trusted": true
   },
   "outputs": [],
   "source": [
    "def print_row(input_df: pd.DataFrame, index: int) -> None:\n",
    "    \"\"\"Most relevant columns for today's analysis\"\"\"\n",
    "    print(f\"speaker: {input_df.iat[index, 4]}\")\n",
    "    print(f\"subject(s): {input_df.iat[index, 3]}\")\n",
    "    print(f\"statement: {input_df.iat[index, 2]}\")\n",
    "    print(f\"label: {input_df.iat[index, 1]}\")"
   ]
  },
  {
   "cell_type": "code",
   "execution_count": 9,
   "metadata": {
    "execution": {
     "iopub.execute_input": "2024-06-11T20:32:20.593155Z",
     "iopub.status.busy": "2024-06-11T20:32:20.592788Z",
     "iopub.status.idle": "2024-06-11T20:32:20.598599Z",
     "shell.execute_reply": "2024-06-11T20:32:20.597415Z",
     "shell.execute_reply.started": "2024-06-11T20:32:20.593122Z"
    },
    "trusted": true
   },
   "outputs": [
    {
     "name": "stdout",
     "output_type": "stream",
     "text": [
      "speaker: barack-obama\n",
      "subject(s): foreign-policy\n",
      "statement: Hillary Clinton agrees with John McCain \"by voting to give George Bush the benefit of the doubt on Iran.\"\n",
      "label: mostly-true\n"
     ]
    }
   ],
   "source": [
    "print_row(df, 1)"
   ]
  },
  {
   "cell_type": "code",
   "execution_count": 10,
   "metadata": {
    "execution": {
     "iopub.execute_input": "2024-06-11T20:32:25.407026Z",
     "iopub.status.busy": "2024-06-11T20:32:25.406662Z",
     "iopub.status.idle": "2024-06-11T20:32:25.412545Z",
     "shell.execute_reply": "2024-06-11T20:32:25.411427Z",
     "shell.execute_reply.started": "2024-06-11T20:32:25.406994Z"
    },
    "trusted": true
   },
   "outputs": [
    {
     "name": "stdout",
     "output_type": "stream",
     "text": [
      "speaker: rick-perry\n",
      "subject(s): income\n",
      "statement: A part-time Congress with half the pay would still make $38,000 a year more than the average American family.\n",
      "label: mostly-true\n"
     ]
    }
   ],
   "source": [
    "print_row(df, 10000)"
   ]
  },
  {
   "cell_type": "markdown",
   "metadata": {},
   "source": [
    "# Analysing the data\n",
    "With a `pandas.DataFrame` in hand, we can start asking questions about the data. This is called \"Exploratory Data Analysis\" (a.k.a. \"EDA\") and is a critical step in a data scientist's workflow. It is important because we need to understand the nature of our data in order to draw conclusions from it. Some questions we'll answer today, \n",
    "\n",
    "* What is the distribution of labels in this data? How many \"mostly-true\", \"half-true\", etc? \n",
    "* How many distinct subjects are there? Distinct speakers?\n",
    "\n",
    "<br />\n",
    "\n",
    "## Label Distribution & \"Truthiness\"\n",
    "_These definitions were taken from  [PolitiFact's \"truth-o-meter\" methodology](https://www.politifact.com/article/2018/feb/12/principles-truth-o-meter-politifacts-methodology-i/#Truth-O-Meter%20ratings) page_\n",
    "\n",
    "1. **true** – The statement is accurate and there’s nothing significant missing.\n",
    "2. **mostly-true** – The statement is accurate but needs clarification or additional information.\n",
    "3. **half-true** – The statement is partially accurate but leaves out important details or takes things out of context.\n",
    "4. **barely-true** – The statement contains an element of truth but ignores critical facts that would give a different impression.\n",
    "5. **false** – The statement is not accurate.\n",
    "6. **pants-fire** – The statement is not accurate and makes a ridiculous claim. a.k.a. \"Liar, Liar, Pants on Fire!\"\n",
    "\n",
    "<br />\n",
    "\n",
    "`pandas` has builtin methods that wrap `matplotlib` visualization libraries. Using these builtin methods, it is fairly straightforward to make charts from a `pandas.DataFrame`."
   ]
  },
  {
   "cell_type": "code",
   "execution_count": 11,
   "metadata": {
    "execution": {
     "iopub.execute_input": "2024-06-11T20:32:29.863160Z",
     "iopub.status.busy": "2024-06-11T20:32:29.862821Z",
     "iopub.status.idle": "2024-06-11T20:32:31.053274Z",
     "shell.execute_reply": "2024-06-11T20:32:31.052140Z",
     "shell.execute_reply.started": "2024-06-11T20:32:29.863130Z"
    },
    "trusted": true
   },
   "outputs": [
    {
     "data": {
      "image/png": "[encoded data removed]",
      "text/plain": [
       "<Figure size 864x576 with 1 Axes>"
      ]
     },
     "metadata": {},
     "output_type": "display_data"
    }
   ],
   "source": [
    "import seaborn as sns # https://seaborn.pydata.org/\n",
    "sns.set()\n",
    "\n",
    "\n",
    "def label_bar_chart(input_df: pd.DataFrame, title: str = \"LIAR Dataset\") -> None:\n",
    "    \n",
    "    # computes frequencies of labels and converts to percentages\n",
    "    label_frequencies = input_df['label'].value_counts(normalize=True)\n",
    "    \n",
    "    def multiply_100(x):\n",
    "        return x * 100\n",
    "    \n",
    "    # \"apply\" is a handy way to call a function on every row of data.\n",
    "    label_frequencies = label_frequencies.apply(multiply_100)\n",
    "    \n",
    "    # bar chart ordering and  colors for readability.\n",
    "    labels = ['pants-fire', 'false', 'barely-true', 'half-true', 'mostly-true', 'true']\n",
    "    colors = [\n",
    "        'orangered', # pants-fire\n",
    "        'coral', # false\n",
    "        'salmon', # barely-true\n",
    "        'peachpuff', # half-true\n",
    "        'skyblue', # mostly-true\n",
    "        'deepskyblue' # true\n",
    "    ]\n",
    "    \n",
    "    label_frequencies = label_frequencies.reindex(index = labels)\n",
    "    \n",
    "    \n",
    "    # creates a horizontal bar chart with a descriptive title\n",
    "    axis = label_frequencies.plot(kind='barh', figsize=(12, 8), color=colors)\n",
    "    axis.set_title(f\"distribution of label values ({title}, sample_size={len(input_df)})\", size=20);\n",
    "    \n",
    "\n",
    "# create bar chart over labels for the entire LIAR dataset.\n",
    "label_bar_chart(df)"
   ]
  },
  {
   "cell_type": "markdown",
   "metadata": {},
   "source": [
    "<br />\n",
    "\n",
    "## Speaker Analysis\n",
    "Let's take a look at the speaker column now. In order for this data to be super useful, we want a large breadth of speakers. Otherwise, the dataset might be too narrow for general applicability. It might also be nice to look at label distribution for a given speaker. \n",
    "\n",
    "`pandas` has a lot of builtin methods to help slice and dice datasets. `pandas.Series.nunique()` gives us the number of unique values for a column. We can treat `pandas.DataFrame` like a list and call `len(df)` to get the total number of rows. \n"
   ]
  },
  {
   "cell_type": "code",
   "execution_count": 12,
   "metadata": {
    "execution": {
     "iopub.execute_input": "2024-06-11T20:32:37.645718Z",
     "iopub.status.busy": "2024-06-11T20:32:37.645310Z",
     "iopub.status.idle": "2024-06-11T20:32:37.653878Z",
     "shell.execute_reply": "2024-06-11T20:32:37.652717Z",
     "shell.execute_reply.started": "2024-06-11T20:32:37.645681Z"
    },
    "trusted": true
   },
   "outputs": [
    {
     "name": "stdout",
     "output_type": "stream",
     "text": [
      "Unique speakers in dataset: 2910\n",
      "Average statements made per speaker: 3.5185567010309278\n"
     ]
    }
   ],
   "source": [
    "num_unique_speakers = df['speaker'].nunique()\n",
    "avg_statments = len(df) / num_unique_speakers\n",
    "\n",
    "print(f\"Unique speakers in dataset: {num_unique_speakers}\")\n",
    "print(f\"Average statements made per speaker: {avg_statments}\")"
   ]
  },
  {
   "cell_type": "markdown",
   "metadata": {},
   "source": [
    "We can filter a `pandas.DataFrame` by specific values. However, it uses non-native python syntax which can look pretty foreign at first, "
   ]
  },
  {
   "cell_type": "code",
   "execution_count": 13,
   "metadata": {
    "execution": {
     "iopub.execute_input": "2024-06-11T20:32:42.430175Z",
     "iopub.status.busy": "2024-06-11T20:32:42.429820Z",
     "iopub.status.idle": "2024-06-11T20:32:42.670429Z",
     "shell.execute_reply": "2024-06-11T20:32:42.669384Z",
     "shell.execute_reply.started": "2024-06-11T20:32:42.430142Z"
    },
    "trusted": true
   },
   "outputs": [
    {
     "data": {
      "image/png": "[encoded data removed]",
      "text/plain": [
       "<Figure size 864x576 with 1 Axes>"
      ]
     },
     "metadata": {},
     "output_type": "display_data"
    }
   ],
   "source": [
    "# 'barack-obama', 'bernie-s', 'mitt-romney', 'hillary-clinton', 'tom-cotton', 'north-korea', 'donald-trump', 'joe-biden', 'mitch-mcconnell'\n",
    "# list(df['speaker'].unique())\n",
    "\n",
    "def speaker_bar_chart(input_df: pd.DataFrame, speaker: str) -> pd.DataFrame:\n",
    "    \n",
    "    # filters the input_df\n",
    "    speaker_df = input_df[ input_df['speaker'] == speaker ]\n",
    "    speaker_df.reset_index(inplace=True)\n",
    "    \n",
    "    # calls the bar chart function we created earlier\n",
    "    label_bar_chart(speaker_df, title=speaker)\n",
    "    \n",
    "    return speaker_df\n",
    "    \n",
    "\n",
    "# create a bar chart over labels for a single speaker. Store the returned dataframe to a variable.\n",
    "ret_df = speaker_bar_chart(df, 'barack-obama')"
   ]
  },
  {
   "cell_type": "code",
   "execution_count": 14,
   "metadata": {
    "execution": {
     "iopub.execute_input": "2024-06-11T20:32:43.215104Z",
     "iopub.status.busy": "2024-06-11T20:32:43.214741Z",
     "iopub.status.idle": "2024-06-11T20:32:43.219320Z",
     "shell.execute_reply": "2024-06-11T20:32:43.218147Z",
     "shell.execute_reply.started": "2024-06-11T20:32:43.215073Z"
    },
    "trusted": true
   },
   "outputs": [],
   "source": [
    "# ret_df[ ret_df['label'] == 'pants-fire' ]\n",
    "# ret_df"
   ]
  },
  {
   "cell_type": "code",
   "execution_count": 15,
   "metadata": {
    "execution": {
     "iopub.execute_input": "2024-06-11T20:32:44.131116Z",
     "iopub.status.busy": "2024-06-11T20:32:44.130745Z",
     "iopub.status.idle": "2024-06-11T20:32:44.135818Z",
     "shell.execute_reply": "2024-06-11T20:32:44.134756Z",
     "shell.execute_reply.started": "2024-06-11T20:32:44.131081Z"
    },
    "trusted": true
   },
   "outputs": [],
   "source": [
    "# print_row(ret_df, 0)"
   ]
  },
  {
   "cell_type": "markdown",
   "metadata": {},
   "source": [
    "<br />\n",
    "\n",
    "## Subject Analysis\n",
    "Let's do for subjects what we did for speakers. Our `label_bar_chart` function doesn't care how the input data is sliced (as long as it has a \"labels\" column!), so we can re-use that here. \n",
    "\n",
    "**Note**: There can be multiple subjects per row of data, so we'll need to account for that. We need to _transform_ our dataset, using `pandas`, in order to feed it into `label_bar_chart`. \n",
    "\n",
    "\n",
    "Handling columns of data that have multiple values is such a common operation in data analysis that there is a builtin function for this: `pandas.DataFrame.explode`!"
   ]
  },
  {
   "cell_type": "code",
   "execution_count": 16,
   "metadata": {
    "execution": {
     "iopub.execute_input": "2024-06-11T20:32:45.503251Z",
     "iopub.status.busy": "2024-06-11T20:32:45.502896Z",
     "iopub.status.idle": "2024-06-11T20:32:45.548925Z",
     "shell.execute_reply": "2024-06-11T20:32:45.547726Z",
     "shell.execute_reply.started": "2024-06-11T20:32:45.503221Z"
    },
    "trusted": true
   },
   "outputs": [
    {
     "data": {
      "text/html": [
       "<div>\n",
       "<style scoped>\n",
       "    .dataframe tbody tr th:only-of-type {\n",
       "        vertical-align: middle;\n",
       "    }\n",
       "\n",
       "    .dataframe tbody tr th {\n",
       "        vertical-align: top;\n",
       "    }\n",
       "\n",
       "    .dataframe thead th {\n",
       "        text-align: right;\n",
       "    }\n",
       "</style>\n",
       "<table border=\"1\" class=\"dataframe\">\n",
       "  <thead>\n",
       "    <tr style=\"text-align: right;\">\n",
       "      <th></th>\n",
       "      <th>label</th>\n",
       "      <th>subjects</th>\n",
       "    </tr>\n",
       "  </thead>\n",
       "  <tbody>\n",
       "    <tr>\n",
       "      <th>0</th>\n",
       "      <td>half-true</td>\n",
       "      <td>energy</td>\n",
       "    </tr>\n",
       "    <tr>\n",
       "      <th>0</th>\n",
       "      <td>half-true</td>\n",
       "      <td>history</td>\n",
       "    </tr>\n",
       "    <tr>\n",
       "      <th>0</th>\n",
       "      <td>half-true</td>\n",
       "      <td>job-accomplishments</td>\n",
       "    </tr>\n",
       "    <tr>\n",
       "      <th>1</th>\n",
       "      <td>mostly-true</td>\n",
       "      <td>foreign-policy</td>\n",
       "    </tr>\n",
       "    <tr>\n",
       "      <th>2</th>\n",
       "      <td>false</td>\n",
       "      <td>health-care</td>\n",
       "    </tr>\n",
       "  </tbody>\n",
       "</table>\n",
       "</div>"
      ],
      "text/plain": [
       "         label             subjects\n",
       "0    half-true               energy\n",
       "0    half-true              history\n",
       "0    half-true  job-accomplishments\n",
       "1  mostly-true       foreign-policy\n",
       "2        false          health-care"
      ]
     },
     "execution_count": 16,
     "metadata": {},
     "output_type": "execute_result"
    }
   ],
   "source": [
    "# this creates a new dataframe that only contains the label and subjects columns.\n",
    "subject_df = df[['label', 'subjects']].copy()\n",
    "\n",
    "# # start by turning the comma-separated values into a list of values\n",
    "def csv_to_list(x):\n",
    "    return x.split(\",\")\n",
    "\n",
    "subject_df['subjects'] = subject_df['subjects'].apply(csv_to_list)\n",
    "\n",
    "subject_df = subject_df.explode('subjects')\n",
    "\n",
    "subject_df.head()"
   ]
  },
  {
   "cell_type": "markdown",
   "metadata": {},
   "source": [
    "Now we can perform the same analysis on the subject column, "
   ]
  },
  {
   "cell_type": "code",
   "execution_count": 17,
   "metadata": {
    "execution": {
     "iopub.execute_input": "2024-06-11T20:32:47.970997Z",
     "iopub.status.busy": "2024-06-11T20:32:47.970639Z",
     "iopub.status.idle": "2024-06-11T20:32:47.980744Z",
     "shell.execute_reply": "2024-06-11T20:32:47.979632Z",
     "shell.execute_reply.started": "2024-06-11T20:32:47.970966Z"
    },
    "trusted": true
   },
   "outputs": [
    {
     "name": "stdout",
     "output_type": "stream",
     "text": [
      "Unique subjects in dataset: 143\n"
     ]
    }
   ],
   "source": [
    "num_unique_subjects = subject_df['subjects'].nunique()\n",
    "\n",
    "print(f\"Unique subjects in dataset: {num_unique_subjects}\")"
   ]
  },
  {
   "cell_type": "code",
   "execution_count": 18,
   "metadata": {
    "execution": {
     "iopub.execute_input": "2024-06-11T20:32:48.713288Z",
     "iopub.status.busy": "2024-06-11T20:32:48.712943Z",
     "iopub.status.idle": "2024-06-11T20:32:48.951621Z",
     "shell.execute_reply": "2024-06-11T20:32:48.950641Z",
     "shell.execute_reply.started": "2024-06-11T20:32:48.713258Z"
    },
    "trusted": true
   },
   "outputs": [
    {
     "data": {
      "image/png": "[encoded data removed]",
      "text/plain": [
       "<Figure size 864x576 with 1 Axes>"
      ]
     },
     "metadata": {},
     "output_type": "display_data"
    }
   ],
   "source": [
    "# 'energy', 'poverty', 'taxes', 'climate-change', 'obama-birth-certificate'\n",
    "# list(subject_df['subjects'].unique())\n",
    "\n",
    "def subject_bar_chart(input_df: pd.DataFrame, subject: str) -> pd.DataFrame:\n",
    "    \n",
    "    # filters the input_df\n",
    "    ret_df = input_df[ input_df['subjects'] == subject ]\n",
    "    ret_df.reset_index(inplace=True)\n",
    "    \n",
    "    # calls the bar chart function we created earlier\n",
    "    label_bar_chart(ret_df, title=subject)\n",
    "    \n",
    "    return ret_df\n",
    "    \n",
    "\n",
    "# create a bar chart over labels for a single subject. Store the returned dataframe to a variable.\n",
    "ret_df = subject_bar_chart(subject_df, 'poverty')"
   ]
  },
  {
   "cell_type": "markdown",
   "metadata": {},
   "source": [
    "# Revisiting the Sentiment Analysis Lab\n",
    "Often, the work of a data scientist takes them beyond analysis and into the realm of \"modeling\". A \"model\" is a representation of data that typically helps answer a particular question. You've already encountered modeling this semester in two labs: \"Diagnosing Heart Disease\" and \"Sentiment Analysis\". \n",
    "\n",
    "In the \"Sentiment Analysis\" lab, you labeled words and phrases as \"Positive\", \"Negative\", or \"Unknown\" by building a model from a movie reviews dataset. We are going to apply the same modeling technique here to predict **Truthiness**.\n"
   ]
  },
  {
   "cell_type": "code",
   "execution_count": 19,
   "metadata": {
    "execution": {
     "iopub.execute_input": "2024-06-11T20:32:51.398988Z",
     "iopub.status.busy": "2024-06-11T20:32:51.398634Z",
     "iopub.status.idle": "2024-06-11T20:32:51.420293Z",
     "shell.execute_reply": "2024-06-11T20:32:51.419229Z",
     "shell.execute_reply.started": "2024-06-11T20:32:51.398959Z"
    },
    "trusted": true
   },
   "outputs": [
    {
     "data": {
      "text/html": [
       "<div>\n",
       "<style scoped>\n",
       "    .dataframe tbody tr th:only-of-type {\n",
       "        vertical-align: middle;\n",
       "    }\n",
       "\n",
       "    .dataframe tbody tr th {\n",
       "        vertical-align: top;\n",
       "    }\n",
       "\n",
       "    .dataframe thead th {\n",
       "        text-align: right;\n",
       "    }\n",
       "</style>\n",
       "<table border=\"1\" class=\"dataframe\">\n",
       "  <thead>\n",
       "    <tr style=\"text-align: right;\">\n",
       "      <th></th>\n",
       "      <th>id</th>\n",
       "      <th>label</th>\n",
       "      <th>statement</th>\n",
       "      <th>subjects</th>\n",
       "      <th>speaker</th>\n",
       "      <th>speaker_job_title</th>\n",
       "      <th>state_info</th>\n",
       "      <th>party_affiliation</th>\n",
       "      <th>count_1</th>\n",
       "      <th>count_2</th>\n",
       "      <th>count_3</th>\n",
       "      <th>count_4</th>\n",
       "      <th>count_5</th>\n",
       "      <th>context</th>\n",
       "    </tr>\n",
       "  </thead>\n",
       "  <tbody>\n",
       "    <tr>\n",
       "      <th>0</th>\n",
       "      <td>10540.json</td>\n",
       "      <td>half-true</td>\n",
       "      <td>When did the decline of coal start? It started...</td>\n",
       "      <td>energy,history,job-accomplishments</td>\n",
       "      <td>scott-surovell</td>\n",
       "      <td>State delegate</td>\n",
       "      <td>Virginia</td>\n",
       "      <td>democrat</td>\n",
       "      <td>0</td>\n",
       "      <td>0</td>\n",
       "      <td>1</td>\n",
       "      <td>1</td>\n",
       "      <td>0</td>\n",
       "      <td>a floor speech.</td>\n",
       "    </tr>\n",
       "    <tr>\n",
       "      <th>1</th>\n",
       "      <td>324.json</td>\n",
       "      <td>mostly-true</td>\n",
       "      <td>Hillary Clinton agrees with John McCain \"by vo...</td>\n",
       "      <td>foreign-policy</td>\n",
       "      <td>barack-obama</td>\n",
       "      <td>President</td>\n",
       "      <td>Illinois</td>\n",
       "      <td>democrat</td>\n",
       "      <td>70</td>\n",
       "      <td>71</td>\n",
       "      <td>160</td>\n",
       "      <td>163</td>\n",
       "      <td>9</td>\n",
       "      <td>Denver</td>\n",
       "    </tr>\n",
       "    <tr>\n",
       "      <th>2</th>\n",
       "      <td>1123.json</td>\n",
       "      <td>false</td>\n",
       "      <td>Health care reform legislation is likely to ma...</td>\n",
       "      <td>health-care</td>\n",
       "      <td>blog-posting</td>\n",
       "      <td></td>\n",
       "      <td></td>\n",
       "      <td>none</td>\n",
       "      <td>7</td>\n",
       "      <td>19</td>\n",
       "      <td>3</td>\n",
       "      <td>5</td>\n",
       "      <td>44</td>\n",
       "      <td>a news release</td>\n",
       "    </tr>\n",
       "    <tr>\n",
       "      <th>3</th>\n",
       "      <td>9028.json</td>\n",
       "      <td>half-true</td>\n",
       "      <td>The economic turnaround started at the end of ...</td>\n",
       "      <td>economy,jobs</td>\n",
       "      <td>charlie-crist</td>\n",
       "      <td></td>\n",
       "      <td>Florida</td>\n",
       "      <td>democrat</td>\n",
       "      <td>15</td>\n",
       "      <td>9</td>\n",
       "      <td>20</td>\n",
       "      <td>19</td>\n",
       "      <td>2</td>\n",
       "      <td>an interview on CNN</td>\n",
       "    </tr>\n",
       "    <tr>\n",
       "      <th>4</th>\n",
       "      <td>12465.json</td>\n",
       "      <td>true</td>\n",
       "      <td>The Chicago Bears have had more starting quart...</td>\n",
       "      <td>education</td>\n",
       "      <td>robin-vos</td>\n",
       "      <td>Wisconsin Assembly speaker</td>\n",
       "      <td>Wisconsin</td>\n",
       "      <td>republican</td>\n",
       "      <td>0</td>\n",
       "      <td>3</td>\n",
       "      <td>2</td>\n",
       "      <td>5</td>\n",
       "      <td>1</td>\n",
       "      <td>a an online opinion-piece</td>\n",
       "    </tr>\n",
       "  </tbody>\n",
       "</table>\n",
       "</div>"
      ],
      "text/plain": [
       "           id        label                                          statement  \\\n",
       "0  10540.json    half-true  When did the decline of coal start? It started...   \n",
       "1    324.json  mostly-true  Hillary Clinton agrees with John McCain \"by vo...   \n",
       "2   1123.json        false  Health care reform legislation is likely to ma...   \n",
       "3   9028.json    half-true  The economic turnaround started at the end of ...   \n",
       "4  12465.json         true  The Chicago Bears have had more starting quart...   \n",
       "\n",
       "                             subjects         speaker  \\\n",
       "0  energy,history,job-accomplishments  scott-surovell   \n",
       "1                      foreign-policy    barack-obama   \n",
       "2                         health-care    blog-posting   \n",
       "3                        economy,jobs   charlie-crist   \n",
       "4                           education       robin-vos   \n",
       "\n",
       "            speaker_job_title state_info party_affiliation count_1 count_2  \\\n",
       "0              State delegate   Virginia          democrat       0       0   \n",
       "1                   President   Illinois          democrat      70      71   \n",
       "2                                                     none       7      19   \n",
       "3                                Florida          democrat      15       9   \n",
       "4  Wisconsin Assembly speaker  Wisconsin        republican       0       3   \n",
       "\n",
       "  count_3 count_4 count_5                    context  \n",
       "0       1       1       0            a floor speech.  \n",
       "1     160     163       9                     Denver  \n",
       "2       3       5      44             a news release  \n",
       "3      20      19       2        an interview on CNN  \n",
       "4       2       5       1  a an online opinion-piece  "
      ]
     },
     "execution_count": 19,
     "metadata": {},
     "output_type": "execute_result"
    }
   ],
   "source": [
    "df.head()"
   ]
  },
  {
   "cell_type": "code",
   "execution_count": 20,
   "metadata": {
    "execution": {
     "iopub.execute_input": "2024-06-11T20:32:52.266276Z",
     "iopub.status.busy": "2024-06-11T20:32:52.265851Z",
     "iopub.status.idle": "2024-06-11T20:32:52.281097Z",
     "shell.execute_reply": "2024-06-11T20:32:52.279949Z",
     "shell.execute_reply.started": "2024-06-11T20:32:52.266238Z"
    },
    "trusted": true
   },
   "outputs": [],
   "source": [
    "from typing import Dict\n",
    "\n",
    "\n",
    "def score_label(label: str) -> float:\n",
    "    scores = {\n",
    "        'true': 2,\n",
    "        'mostly-true': 1,\n",
    "        'half-true': 0,\n",
    "        'barely-true': -1,\n",
    "        'false': -2,\n",
    "        'pants-fire': -3\n",
    "    }\n",
    "    return scores[label]\n",
    "\n",
    "\n",
    "def model_speaker_statements(input_df: pd.DataFrame) -> Dict[str, Dict[str, float]]:\n",
    "    \n",
    "    tot = {}\n",
    "    count = {}\n",
    "    \n",
    "    # for each row in the input_df\n",
    "    for _, row in input_df.T.items():\n",
    "        \n",
    "        # grab the pertinent information\n",
    "        speaker = row['speaker']\n",
    "        score = score_label(row['label'])\n",
    "        words = row['statement'].lower().split()\n",
    "        \n",
    "        # prevents double counting of words\n",
    "        uniques = []\n",
    "        \n",
    "        for word in words:\n",
    "            # if its a word we've already seen, skip processing\n",
    "            if word in uniques:\n",
    "                continue\n",
    "                    \n",
    "            uniques.append(word)\n",
    "            \n",
    "            if speaker in tot:\n",
    "                if word in tot[speaker]:\n",
    "                    tot[speaker][word] += score\n",
    "                    count[speaker][word] += 1\n",
    "                else:\n",
    "                    tot[speaker][word] = score\n",
    "                    count[speaker][word] = 1\n",
    "                    \n",
    "            else:\n",
    "                tot[speaker] = {}\n",
    "                tot[speaker][word] = score\n",
    "                \n",
    "                count[speaker] = {}\n",
    "                count[speaker][word] = 1\n",
    "                \n",
    "    \n",
    "    # compute averages and return model\n",
    "    for speaker in tot:\n",
    "        for word in tot[speaker]:\n",
    "            tot[speaker][word] = tot[speaker][word] / count[speaker][word]\n",
    "            \n",
    "    return tot\n",
    "\n",
    "\n",
    "def score_speaker_statement(model: Dict[str, Dict[str, float]], speaker: str, phrase: str) -> float:\n",
    "        \n",
    "    idx = 0\n",
    "    score = 0\n",
    "    for word in phrase.split():\n",
    "        word = word.lower()\n",
    "        \n",
    "        if word in model[speaker]:\n",
    "            score += model[speaker][word]\n",
    "            idx += 1\n",
    "            \n",
    "    if not idx:\n",
    "        return None\n",
    "    \n",
    "    return score / idx\n",
    "                                        \n",
    "\n",
    "def sentiment_speaker_statement(model: Dict[str, Dict[str, float]], speaker: str, phrase: str) -> str:\n",
    "\n",
    "    score = score_speaker_statement(model, speaker, phrase)\n",
    "\n",
    "    if score is None:\n",
    "        return None\n",
    "    \n",
    "    if score <= 0:\n",
    "        return False\n",
    "    \n",
    "    return True"
   ]
  },
  {
   "cell_type": "markdown",
   "metadata": {},
   "source": [
    "<br />\n",
    "\n",
    "## Spot Check\n",
    "\n",
    "Now let's generate our model and test it against some recent statements that are not a part of our training dataset."
   ]
  },
  {
   "cell_type": "code",
   "execution_count": 21,
   "metadata": {
    "execution": {
     "iopub.execute_input": "2024-06-11T20:32:54.896826Z",
     "iopub.status.busy": "2024-06-11T20:32:54.896391Z",
     "iopub.status.idle": "2024-06-11T20:32:56.335537Z",
     "shell.execute_reply": "2024-06-11T20:32:56.334653Z",
     "shell.execute_reply.started": "2024-06-11T20:32:54.896790Z"
    },
    "trusted": true
   },
   "outputs": [],
   "source": [
    "from IPython.display import Image\n",
    "\n",
    "# build a model from the liar dataset\n",
    "model = model_speaker_statements(df)"
   ]
  },
  {
   "cell_type": "code",
   "execution_count": 23,
   "metadata": {
    "execution": {
     "iopub.execute_input": "2024-06-11T20:33:13.942658Z",
     "iopub.status.busy": "2024-06-11T20:33:13.942255Z",
     "iopub.status.idle": "2024-06-11T20:33:13.947716Z",
     "shell.execute_reply": "2024-06-11T20:33:13.946717Z",
     "shell.execute_reply.started": "2024-06-11T20:33:13.942614Z"
    },
    "trusted": true
   },
   "outputs": [
    {
     "name": "stdout",
     "output_type": "stream",
     "text": [
      "Model outcome: True\n",
      "\n"
     ]
    }
   ],
   "source": [
    "outcome = sentiment_speaker_statement(model, 'joe-biden', \"A new, independent study put out last week found that at least 55 of our largest corporations used various loopholes to pay zero federal income tax in 2020.\")\n",
    "print(f\"Model outcome: {outcome}\\n\")\n",
    "\n"
   ]
  },
  {
   "cell_type": "code",
   "execution_count": 24,
   "metadata": {
    "execution": {
     "iopub.execute_input": "2024-06-11T20:33:40.558492Z",
     "iopub.status.busy": "2024-06-11T20:33:40.558129Z",
     "iopub.status.idle": "2024-06-11T20:33:40.564233Z",
     "shell.execute_reply": "2024-06-11T20:33:40.563069Z",
     "shell.execute_reply.started": "2024-06-11T20:33:40.558460Z"
    },
    "trusted": true
   },
   "outputs": [
    {
     "name": "stdout",
     "output_type": "stream",
     "text": [
      "Model outcome: False\n",
      "\n"
     ]
    }
   ],
   "source": [
    "outcome = sentiment_speaker_statement(model, 'donald-trump', \"The unemployment rate for Wisconsin workers has reached historic lows. It’s never been this low before, ever, ever, ever.\")\n",
    "print(f\"Model outcome: {outcome}\\n\")\n",
    "\n"
   ]
  },
  {
   "cell_type": "code",
   "execution_count": 26,
   "metadata": {
    "execution": {
     "iopub.execute_input": "2024-06-11T20:33:48.233058Z",
     "iopub.status.busy": "2024-06-11T20:33:48.232685Z",
     "iopub.status.idle": "2024-06-11T20:33:48.237927Z",
     "shell.execute_reply": "2024-06-11T20:33:48.236785Z",
     "shell.execute_reply.started": "2024-06-11T20:33:48.233026Z"
    },
    "trusted": true
   },
   "outputs": [
    {
     "name": "stdout",
     "output_type": "stream",
     "text": [
      "Model outcome: False\n",
      "\n"
     ]
    }
   ],
   "source": [
    "outcome = sentiment_speaker_statement(model, 'mitch-mcconnell', \"Clearly, the Obama administration did not leave any kind of game plan for something like this.\")\n",
    "print(f\"Model outcome: {outcome}\\n\")\n",
    "\n"
   ]
  },
  {
   "cell_type": "code",
   "execution_count": null,
   "metadata": {
    "execution": {
     "iopub.execute_input": "2024-06-11T20:33:53.545244Z",
     "iopub.status.busy": "2024-06-11T20:33:53.544858Z",
     "iopub.status.idle": "2024-06-11T20:33:53.550875Z",
     "shell.execute_reply": "2024-06-11T20:33:53.549488Z",
     "shell.execute_reply.started": "2024-06-11T20:33:53.545207Z"
    },
    "trusted": true
   },
   "outputs": [
    {
     "name": "stdout",
     "output_type": "stream",
     "text": [
      "Model outcome: True\n",
      "\n"
     ]
    }
   ],
   "source": [
    "outcome = sentiment_speaker_statement(model, 'kamala-harris', \"The cost of living is going up, but paychecks aren't keeping up.\")\n",
    "print(f\"Model outcome: {outcome}\\n\")\n",
    "\n"
   ]
  },
  {
   "cell_type": "code",
   "execution_count": 28,
   "metadata": {
    "execution": {
     "iopub.execute_input": "2024-06-11T20:33:59.239188Z",
     "iopub.status.busy": "2024-06-11T20:33:59.238791Z",
     "iopub.status.idle": "2024-06-11T20:33:59.245052Z",
     "shell.execute_reply": "2024-06-11T20:33:59.243181Z",
     "shell.execute_reply.started": "2024-06-11T20:33:59.239149Z"
    },
    "trusted": true
   },
   "outputs": [
    {
     "name": "stdout",
     "output_type": "stream",
     "text": [
      "Model outcome: True\n",
      "\n"
     ]
    }
   ],
   "source": [
    "outcome = sentiment_speaker_statement(model, 'bernie-s', \"Trade agreements like NAFTA and permanent normal trade relations with China, which forced American workers to compete against people making pennies an hour, has resulted in the loss of 160,000 jobs here in Michigan.\")\n",
    "print(f\"Model outcome: {outcome}\\n\")\n",
    "\n"
   ]
  },
  {
   "cell_type": "markdown",
   "metadata": {},
   "source": [
    "\n"
   ]
  },
  {
   "cell_type": "markdown",
   "metadata": {},
   "source": [
    "## Exporting our model"
   ]
  },
  {
   "cell_type": "code",
   "execution_count": 30,
   "metadata": {
    "execution": {
     "iopub.execute_input": "2024-06-11T20:34:38.225168Z",
     "iopub.status.busy": "2024-06-11T20:34:38.224809Z",
     "iopub.status.idle": "2024-06-11T20:34:38.556506Z",
     "shell.execute_reply": "2024-06-11T20:34:38.555530Z",
     "shell.execute_reply.started": "2024-06-11T20:34:38.225136Z"
    },
    "trusted": true
   },
   "outputs": [],
   "source": [
    "import json\n",
    "\n",
    "with open('/kaggle/working/liar.h5', 'w') as fp:\n",
    "    json.dump(model, fp)"
   ]
  },
  {
   "cell_type": "code",
   "execution_count": null,
   "metadata": {
    "trusted": true
   },
   "outputs": [],
   "source": []
  },
  {
   "cell_type": "code",
   "execution_count": null,
   "metadata": {},
   "outputs": [],
   "source": []
  }
 ],
 "metadata": {
  "kaggle": {
   "accelerator": "none",
   "dataSources": [
    {
     "datasetId": 1278270,
     "sourceId": 2130214,
     "sourceType": "datasetVersion"
    },
    {
     "datasetId": 1280699,
     "sourceId": 2134489,
     "sourceType": "datasetVersion"
    },
    {
     "datasetId": 1415863,
     "sourceId": 2345318,
     "sourceType": "datasetVersion"
    }
   ],
   "dockerImageVersionId": 30085,
   "isGpuEnabled": false,
   "isInternetEnabled": false,
   "language": "python",
   "sourceType": "notebook"
  },
  "kernelspec": {
   "display_name": "venv",
   "language": "python",
   "name": "python3"
  },
  "language_info": {
   "codemirror_mode": {
    "name": "ipython",
    "version": 3
   },
   "file_extension": ".py",
   "mimetype": "text/x-python",
   "name": "python",
   "nbconvert_exporter": "python",
   "pygments_lexer": "ipython3",
   "version": "3.13.1"
  }
 },
 "nbformat": 4,
 "nbformat_minor": 4
}
