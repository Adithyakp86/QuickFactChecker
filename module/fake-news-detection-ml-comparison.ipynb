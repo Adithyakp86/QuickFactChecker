{
 "cells": [
  {
   "cell_type": "code",
   "execution_count": 1,
   "id": "958d2f39",
   "metadata": {},
   "outputs": [],
   "source": [
    "import pickle\n",
    "from tensorflow.keras.models import load_model\n",
    "from tensorflow.keras.preprocessing.sequence import pad_sequences\n",
    "from sklearn.metrics import accuracy_score, classification_report, confusion_matrix, ConfusionMatrixDisplay\n",
    "import matplotlib.pyplot as plt"
   ]
  },
  {
   "cell_type": "code",
   "execution_count": 2,
   "id": "087f96c5",
   "metadata": {},
   "outputs": [
    {
     "name": "stdout",
     "output_type": "stream",
     "text": [
      "Tokenizer loaded successfully.\n"
     ]
    }
   ],
   "source": [
    "with open(\"tokenizer.pkl\", \"rb\") as f:\n",
    "    tokenizer = pickle.load(f)\n",
    "print(\"Tokenizer loaded successfully.\")"
   ]
  },
  {
   "cell_type": "code",
   "execution_count": 3,
   "id": "b2459e13",
   "metadata": {},
   "outputs": [
    {
     "name": "stderr",
     "output_type": "stream",
     "text": [
      "WARNING:absl:Compiled the loaded model, but the compiled metrics have yet to be built. `model.compile_metrics` will be empty until you train or evaluate the model.\n"
     ]
    },
    {
     "name": "stdout",
     "output_type": "stream",
     "text": [
      "LSTM model loaded successfully.\n"
     ]
    }
   ],
   "source": [
    "lstm_model = load_model(\"lstm_model.h5\")\n",
    "print(\"LSTM model loaded successfully.\")"
   ]
  },
  {
   "cell_type": "code",
   "execution_count": 5,
   "id": "4d466164",
   "metadata": {},
   "outputs": [
    {
     "name": "stdout",
     "output_type": "stream",
     "text": [
      "All classical ML models loaded successfully.\n"
     ]
    }
   ],
   "source": [
    "import joblib\n",
    "\n",
    "nb_model = joblib.load(\"model_pipeline.pkl\")\n",
    "lr_model = joblib.load(\"model_pipeline_lr.pkl\")\n",
    "svm_model = joblib.load(\"model_pipeline_svm.pkl\")\n",
    "xgb_model = joblib.load(\"model_pipeline_xgb.pkl\")\n",
    "\n",
    "print(\"All classical ML models loaded successfully.\")\n"
   ]
  },
  {
   "cell_type": "code",
   "execution_count": 10,
   "id": "aed6aaa6",
   "metadata": {},
   "outputs": [],
   "source": [
    "def coerce_binary_labels(arr):\n",
    "    \"\"\"Coerce labels to {0,1}.\"\"\"\n",
    "    arr = np.asarray(arr)\n",
    "    if arr.dtype.kind in {\"i\", \"u\", \"b\", \"f\"}:  # numeric\n",
    "        # Map any nonzero to 1 and zero to 0 for safety\n",
    "        return (arr.astype(float) > 0.0).astype(int)\n",
    "    # string/object - convert \"0\"/\"1\" strings\n",
    "    out = []\n",
    "    for v in arr:\n",
    "        if v is None or (isinstance(v, float) and np.isnan(v)):\n",
    "            out.append(0)\n",
    "            continue\n",
    "        s = str(v).strip()\n",
    "        if s == \"0\":\n",
    "            out.append(0)\n",
    "        elif s == \"1\":\n",
    "            out.append(1)\n",
    "        else:\n",
    "            raise ValueError(f\"Unrecognized label value: {v}, expected 0 or 1\")\n",
    "    return np.array(out, dtype=int)"
   ]
  },
  {
   "cell_type": "code",
   "execution_count": 11,
   "id": "9996ed2e",
   "metadata": {},
   "outputs": [
    {
     "name": "stdout",
     "output_type": "stream",
     "text": [
      "Dataset prepared. Train: 35918, Test: 8980\n"
     ]
    }
   ],
   "source": [
    "# Build shared test split once\n",
    "X_train, X_test, y_train, y_test = load_binary_true_fake_dataset(test_size=0.2, random_state=42)\n",
    "print(f\"Dataset prepared. Train: {len(X_train)}, Test: {len(X_test)}\")"
   ]
  },
  {
   "cell_type": "code",
   "execution_count": 12,
   "id": "9aa61f2a",
   "metadata": {},
   "outputs": [
    {
     "data": {
      "text/html": [
       "<div>\n",
       "<style scoped>\n",
       "    .dataframe tbody tr th:only-of-type {\n",
       "        vertical-align: middle;\n",
       "    }\n",
       "\n",
       "    .dataframe tbody tr th {\n",
       "        vertical-align: top;\n",
       "    }\n",
       "\n",
       "    .dataframe thead th {\n",
       "        text-align: right;\n",
       "    }\n",
       "</style>\n",
       "<table border=\"1\" class=\"dataframe\">\n",
       "  <thead>\n",
       "    <tr style=\"text-align: right;\">\n",
       "      <th></th>\n",
       "      <th>Model</th>\n",
       "      <th>Accuracy</th>\n",
       "      <th>Precision</th>\n",
       "      <th>Recall</th>\n",
       "      <th>F1</th>\n",
       "      <th>Predict Time (s)</th>\n",
       "      <th>ms/sample</th>\n",
       "      <th>Train Time (s)</th>\n",
       "    </tr>\n",
       "  </thead>\n",
       "  <tbody>\n",
       "    <tr>\n",
       "      <th>0</th>\n",
       "      <td>XGBoost</td>\n",
       "      <td>0.996882</td>\n",
       "      <td>0.996827</td>\n",
       "      <td>0.996927</td>\n",
       "      <td>0.996876</td>\n",
       "      <td>7.351928</td>\n",
       "      <td>0.818700</td>\n",
       "      <td>None</td>\n",
       "    </tr>\n",
       "    <tr>\n",
       "      <th>1</th>\n",
       "      <td>SVM</td>\n",
       "      <td>0.993318</td>\n",
       "      <td>0.993390</td>\n",
       "      <td>0.993222</td>\n",
       "      <td>0.993303</td>\n",
       "      <td>1.577101</td>\n",
       "      <td>0.175624</td>\n",
       "      <td>None</td>\n",
       "    </tr>\n",
       "    <tr>\n",
       "      <th>2</th>\n",
       "      <td>Logistic Regression</td>\n",
       "      <td>0.981069</td>\n",
       "      <td>0.980815</td>\n",
       "      <td>0.981388</td>\n",
       "      <td>0.981042</td>\n",
       "      <td>3.677675</td>\n",
       "      <td>0.409541</td>\n",
       "      <td>None</td>\n",
       "    </tr>\n",
       "    <tr>\n",
       "      <th>3</th>\n",
       "      <td>Naive Bayes</td>\n",
       "      <td>0.951448</td>\n",
       "      <td>0.951226</td>\n",
       "      <td>0.951530</td>\n",
       "      <td>0.951362</td>\n",
       "      <td>3.701955</td>\n",
       "      <td>0.412244</td>\n",
       "      <td>None</td>\n",
       "    </tr>\n",
       "    <tr>\n",
       "      <th>4</th>\n",
       "      <td>LSTM</td>\n",
       "      <td>0.829733</td>\n",
       "      <td>0.875522</td>\n",
       "      <td>0.821668</td>\n",
       "      <td>0.821603</td>\n",
       "      <td>4.272081</td>\n",
       "      <td>0.475733</td>\n",
       "      <td>None</td>\n",
       "    </tr>\n",
       "  </tbody>\n",
       "</table>\n",
       "</div>"
      ],
      "text/plain": [
       "                 Model  Accuracy  Precision    Recall        F1  \\\n",
       "0              XGBoost  0.996882   0.996827  0.996927  0.996876   \n",
       "1                  SVM  0.993318   0.993390  0.993222  0.993303   \n",
       "2  Logistic Regression  0.981069   0.980815  0.981388  0.981042   \n",
       "3          Naive Bayes  0.951448   0.951226  0.951530  0.951362   \n",
       "4                 LSTM  0.829733   0.875522  0.821668  0.821603   \n",
       "\n",
       "   Predict Time (s)  ms/sample Train Time (s)  \n",
       "0          7.351928   0.818700           None  \n",
       "1          1.577101   0.175624           None  \n",
       "2          3.677675   0.409541           None  \n",
       "3          3.701955   0.412244           None  \n",
       "4          4.272081   0.475733           None  "
      ]
     },
     "execution_count": 12,
     "metadata": {},
     "output_type": "execute_result"
    }
   ],
   "source": [
    "# Evaluate all models consistently\n",
    "results = []\n",
    "results.append(evaluate_sklearn_pipeline(nb_model, X_test, y_test, name=\"Naive Bayes\"))\n",
    "results.append(evaluate_sklearn_pipeline(lr_model, X_test, y_test, name=\"Logistic Regression\"))\n",
    "results.append(evaluate_sklearn_pipeline(svm_model, X_test, y_test, name=\"SVM\"))\n",
    "results.append(evaluate_sklearn_pipeline(xgb_model, X_test, y_test, name=\"XGBoost\"))\n",
    "results.append(evaluate_lstm(lstm_model, tokenizer, X_test, y_test, name=\"LSTM\", max_len=MAX_LEN))\n",
    "df_results = pd.DataFrame(results)\n",
    "df_results.sort_values(by=[\"F1\",\"Accuracy\"], ascending=False, inplace=True)\n",
    "df_results.reset_index(drop=True, inplace=True)\n",
    "df_results"
   ]
  },
  {
   "cell_type": "code",
   "execution_count": 9,
   "id": "3a5108f7",
   "metadata": {},
   "outputs": [
    {
     "name": "stdout",
     "output_type": "stream",
     "text": [
      "Best model: XGBoost\n",
      "Saved results to: d:\\QuickFactChecker\\results\\ml_comparison_results.csv\n",
      "d:\\QuickFactChecker\\results\\ml_comparison_results.md\n"
     ]
    },
    {
     "data": {
      "image/png": "[encoded data removed]",
      "text/plain": [
       "<Figure size 800x500 with 1 Axes>"
      ]
     },
     "metadata": {},
     "output_type": "display_data"
    }
   ],
   "source": [
    "# Persist results and visualize\n",
    "best_name = df_results.loc[0, \"Model\"]\n",
    "print(\"Best model:\", best_name)\n",
    "df_results_rounded = df_results.copy()\n",
    "for col in [\"Accuracy\", \"Precision\", \"Recall\", \"F1\", \"Predict Time (s)\", \"ms/sample\"]:\n",
    "    if col in df_results_rounded.columns:\n",
    "        df_results_rounded[col] = df_results_rounded[col].astype(float).round(4)\n",
    "csv_path = RESULTS_DIR / \"ml_comparison_results.csv\"\n",
    "md_path = RESULTS_DIR / \"ml_comparison_results.md\"\n",
    "png_path = RESULTS_DIR / \"ml_comparison_accuracy.png\"\n",
    "df_results_rounded.to_csv(csv_path, index=False)\n",
    "with open(md_path, \"w\", encoding=\"utf-8\") as f:\n",
    "    f.write(\"# Model Comparison Results\\n\\n\")\n",
    "    f.write(as_markdown_table(df_results_rounded[[\"Model\",\"Accuracy\",\"Precision\",\"Recall\",\"F1\",\"Predict Time (s)\",\"ms/sample\"]]))\n",
    "print(f\"Saved results to: {csv_path}\\n{md_path}\")\n",
    "import matplotlib.pyplot as plt\n",
    "plt.figure(figsize=(8,5))\n",
    "plt.bar(df_results[\"Model\"], df_results[\"Accuracy\"], color=[\"#4C78A8\", \"#F58518\", \"#54A24B\", \"#E45756\", \"#72B7B2\"])\n",
    "plt.ylabel(\"Accuracy\")\n",
    "plt.title(\"Model Accuracy Comparison\")\n",
    "for i, acc in enumerate(df_results[\"Accuracy\"]):\n",
    "    plt.text(i, acc + 0.005, f\"{acc:.2f}\", ha='center')\n",
    "plt.ylim(0, 1.0)\n",
    "plt.tight_layout()\n",
    "plt.savefig(png_path, dpi=150)\n",
    "plt.show()"
   ]
  },
  {
   "cell_type": "code",
   "execution_count": null,
   "id": "3b5dabfc",
   "metadata": {},
   "outputs": [],
   "source": []
  }
 ],
 "metadata": {
  "kernelspec": {
   "display_name": "venv",
   "language": "python",
   "name": "python3"
  },
  "language_info": {
   "codemirror_mode": {
    "name": "ipython",
    "version": 3
   },
   "file_extension": ".py",
   "mimetype": "text/x-python",
   "name": "python",
   "nbconvert_exporter": "python",
   "pygments_lexer": "ipython3",
   "version": "3.12.7"
  }
 },
 "nbformat": 4,
 "nbformat_minor": 5
}
