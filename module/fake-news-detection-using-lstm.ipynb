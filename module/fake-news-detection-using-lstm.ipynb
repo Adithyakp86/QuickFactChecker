{
 "cells": [
  {
   "cell_type": "markdown",
   "id": "07b11b04",
   "metadata": {
    "_cell_guid": "b1076dfc-b9ad-4769-8c92-a6c4dae69d19",
    "_uuid": "8f2839f25d086af736a60e9eeb907d3b93b6e0e5",
    "papermill": {
     "duration": 0.011671,
     "end_time": "2024-06-11T21:52:27.397029",
     "exception": false,
     "start_time": "2024-06-11T21:52:27.385358",
     "status": "completed"
    },
    "tags": []
   },
   "source": []
  },
  {
   "cell_type": "code",
   "execution_count": 1,
   "id": "9a186f5b",
   "metadata": {
    "execution": {
     "iopub.execute_input": "2024-06-11T21:52:27.421811Z",
     "iopub.status.busy": "2024-06-11T21:52:27.421402Z",
     "iopub.status.idle": "2024-06-11T21:52:42.133329Z",
     "shell.execute_reply": "2024-06-11T21:52:42.132468Z"
    },
    "papermill": {
     "duration": 14.727221,
     "end_time": "2024-06-11T21:52:42.135867",
     "exception": false,
     "start_time": "2024-06-11T21:52:27.408646",
     "status": "completed"
    },
    "tags": []
   },
   "outputs": [
    {
     "name": "stderr",
     "output_type": "stream",
     "text": [
      "2024-06-11 21:52:31.283605: E external/local_xla/xla/stream_executor/cuda/cuda_dnn.cc:9261] Unable to register cuDNN factory: Attempting to register factory for plugin cuDNN when one has already been registered\n",
      "2024-06-11 21:52:31.283724: E external/local_xla/xla/stream_executor/cuda/cuda_fft.cc:607] Unable to register cuFFT factory: Attempting to register factory for plugin cuFFT when one has already been registered\n",
      "2024-06-11 21:52:31.417206: E external/local_xla/xla/stream_executor/cuda/cuda_blas.cc:1515] Unable to register cuBLAS factory: Attempting to register factory for plugin cuBLAS when one has already been registered\n"
     ]
    }
   ],
   "source": [
    "import numpy as np \n",
    "import pandas as pd \n",
    "import os\n",
    "import warnings\n",
    "import re \n",
    "\n",
    "\n",
    "from sklearn.model_selection import train_test_split\n",
    "from sklearn.metrics import accuracy_score, confusion_matrix, classification_report, ConfusionMatrixDisplay\n",
    "\n",
    "from tensorflow.keras.preprocessing.text import Tokenizer\n",
    "from tensorflow.keras.preprocessing.sequence import pad_sequences\n",
    "from tensorflow.keras.layers import Dense, Input, Embedding, LSTM, Dropout, Bidirectional\n",
    "from tensorflow.keras.models import Sequential\n",
    "from tensorflow.keras.optimizers import Adam\n",
    "from tensorflow.keras.losses import BinaryCrossentropy\n",
    "from tensorflow.keras.callbacks import EarlyStopping, ReduceLROnPlateau\n",
    "\n",
    "warnings.filterwarnings('ignore')"
   ]
  },
  {
   "cell_type": "code",
   "execution_count": 2,
   "id": "be1ae063",
   "metadata": {
    "execution": {
     "iopub.execute_input": "2024-06-11T21:52:42.160361Z",
     "iopub.status.busy": "2024-06-11T21:52:42.159435Z",
     "iopub.status.idle": "2024-06-11T21:52:44.595798Z",
     "shell.execute_reply": "2024-06-11T21:52:44.594876Z"
    },
    "papermill": {
     "duration": 2.450907,
     "end_time": "2024-06-11T21:52:44.598326",
     "exception": false,
     "start_time": "2024-06-11T21:52:42.147419",
     "status": "completed"
    },
    "tags": []
   },
   "outputs": [],
   "source": [
    "Fake=pd.read_csv(\"/kaggle/input/fake-and-real-news-dataset/Fake.csv\")\n",
    "true=pd.read_csv(\"/kaggle/input/fake-and-real-news-dataset/True.csv\")"
   ]
  },
  {
   "cell_type": "code",
   "execution_count": 3,
   "id": "a4069064",
   "metadata": {
    "execution": {
     "iopub.execute_input": "2024-06-11T21:52:44.623539Z",
     "iopub.status.busy": "2024-06-11T21:52:44.623158Z",
     "iopub.status.idle": "2024-06-11T21:52:44.633023Z",
     "shell.execute_reply": "2024-06-11T21:52:44.632141Z"
    },
    "papermill": {
     "duration": 0.024828,
     "end_time": "2024-06-11T21:52:44.635230",
     "exception": false,
     "start_time": "2024-06-11T21:52:44.610402",
     "status": "completed"
    },
    "tags": []
   },
   "outputs": [],
   "source": [
    "Fake['label']=0"
   ]
  },
  {
   "cell_type": "code",
   "execution_count": 4,
   "id": "e6978b37",
   "metadata": {
    "execution": {
     "iopub.execute_input": "2024-06-11T21:52:44.659005Z",
     "iopub.status.busy": "2024-06-11T21:52:44.658646Z",
     "iopub.status.idle": "2024-06-11T21:52:44.680478Z",
     "shell.execute_reply": "2024-06-11T21:52:44.679499Z"
    },
    "papermill": {
     "duration": 0.035955,
     "end_time": "2024-06-11T21:52:44.682757",
     "exception": false,
     "start_time": "2024-06-11T21:52:44.646802",
     "status": "completed"
    },
    "tags": []
   },
   "outputs": [
    {
     "data": {
      "text/html": [
       "<div>\n",
       "<style scoped>\n",
       "    .dataframe tbody tr th:only-of-type {\n",
       "        vertical-align: middle;\n",
       "    }\n",
       "\n",
       "    .dataframe tbody tr th {\n",
       "        vertical-align: top;\n",
       "    }\n",
       "\n",
       "    .dataframe thead th {\n",
       "        text-align: right;\n",
       "    }\n",
       "</style>\n",
       "<table border=\"1\" class=\"dataframe\">\n",
       "  <thead>\n",
       "    <tr style=\"text-align: right;\">\n",
       "      <th></th>\n",
       "      <th>title</th>\n",
       "      <th>text</th>\n",
       "      <th>subject</th>\n",
       "      <th>date</th>\n",
       "      <th>label</th>\n",
       "    </tr>\n",
       "  </thead>\n",
       "  <tbody>\n",
       "    <tr>\n",
       "      <th>0</th>\n",
       "      <td>Donald Trump Sends Out Embarrassing New Year’...</td>\n",
       "      <td>Donald Trump just couldn t wish all Americans ...</td>\n",
       "      <td>News</td>\n",
       "      <td>December 31, 2017</td>\n",
       "      <td>0</td>\n",
       "    </tr>\n",
       "    <tr>\n",
       "      <th>1</th>\n",
       "      <td>Drunk Bragging Trump Staffer Started Russian ...</td>\n",
       "      <td>House Intelligence Committee Chairman Devin Nu...</td>\n",
       "      <td>News</td>\n",
       "      <td>December 31, 2017</td>\n",
       "      <td>0</td>\n",
       "    </tr>\n",
       "    <tr>\n",
       "      <th>2</th>\n",
       "      <td>Sheriff David Clarke Becomes An Internet Joke...</td>\n",
       "      <td>On Friday, it was revealed that former Milwauk...</td>\n",
       "      <td>News</td>\n",
       "      <td>December 30, 2017</td>\n",
       "      <td>0</td>\n",
       "    </tr>\n",
       "    <tr>\n",
       "      <th>3</th>\n",
       "      <td>Trump Is So Obsessed He Even Has Obama’s Name...</td>\n",
       "      <td>On Christmas day, Donald Trump announced that ...</td>\n",
       "      <td>News</td>\n",
       "      <td>December 29, 2017</td>\n",
       "      <td>0</td>\n",
       "    </tr>\n",
       "    <tr>\n",
       "      <th>4</th>\n",
       "      <td>Pope Francis Just Called Out Donald Trump Dur...</td>\n",
       "      <td>Pope Francis used his annual Christmas Day mes...</td>\n",
       "      <td>News</td>\n",
       "      <td>December 25, 2017</td>\n",
       "      <td>0</td>\n",
       "    </tr>\n",
       "    <tr>\n",
       "      <th>...</th>\n",
       "      <td>...</td>\n",
       "      <td>...</td>\n",
       "      <td>...</td>\n",
       "      <td>...</td>\n",
       "      <td>...</td>\n",
       "    </tr>\n",
       "    <tr>\n",
       "      <th>23476</th>\n",
       "      <td>McPain: John McCain Furious That Iran Treated ...</td>\n",
       "      <td>21st Century Wire says As 21WIRE reported earl...</td>\n",
       "      <td>Middle-east</td>\n",
       "      <td>January 16, 2016</td>\n",
       "      <td>0</td>\n",
       "    </tr>\n",
       "    <tr>\n",
       "      <th>23477</th>\n",
       "      <td>JUSTICE? Yahoo Settles E-mail Privacy Class-ac...</td>\n",
       "      <td>21st Century Wire says It s a familiar theme. ...</td>\n",
       "      <td>Middle-east</td>\n",
       "      <td>January 16, 2016</td>\n",
       "      <td>0</td>\n",
       "    </tr>\n",
       "    <tr>\n",
       "      <th>23478</th>\n",
       "      <td>Sunnistan: US and Allied ‘Safe Zone’ Plan to T...</td>\n",
       "      <td>Patrick Henningsen  21st Century WireRemember ...</td>\n",
       "      <td>Middle-east</td>\n",
       "      <td>January 15, 2016</td>\n",
       "      <td>0</td>\n",
       "    </tr>\n",
       "    <tr>\n",
       "      <th>23479</th>\n",
       "      <td>How to Blow $700 Million: Al Jazeera America F...</td>\n",
       "      <td>21st Century Wire says Al Jazeera America will...</td>\n",
       "      <td>Middle-east</td>\n",
       "      <td>January 14, 2016</td>\n",
       "      <td>0</td>\n",
       "    </tr>\n",
       "    <tr>\n",
       "      <th>23480</th>\n",
       "      <td>10 U.S. Navy Sailors Held by Iranian Military ...</td>\n",
       "      <td>21st Century Wire says As 21WIRE predicted in ...</td>\n",
       "      <td>Middle-east</td>\n",
       "      <td>January 12, 2016</td>\n",
       "      <td>0</td>\n",
       "    </tr>\n",
       "  </tbody>\n",
       "</table>\n",
       "<p>23481 rows × 5 columns</p>\n",
       "</div>"
      ],
      "text/plain": [
       "                                                   title  \\\n",
       "0       Donald Trump Sends Out Embarrassing New Year’...   \n",
       "1       Drunk Bragging Trump Staffer Started Russian ...   \n",
       "2       Sheriff David Clarke Becomes An Internet Joke...   \n",
       "3       Trump Is So Obsessed He Even Has Obama’s Name...   \n",
       "4       Pope Francis Just Called Out Donald Trump Dur...   \n",
       "...                                                  ...   \n",
       "23476  McPain: John McCain Furious That Iran Treated ...   \n",
       "23477  JUSTICE? Yahoo Settles E-mail Privacy Class-ac...   \n",
       "23478  Sunnistan: US and Allied ‘Safe Zone’ Plan to T...   \n",
       "23479  How to Blow $700 Million: Al Jazeera America F...   \n",
       "23480  10 U.S. Navy Sailors Held by Iranian Military ...   \n",
       "\n",
       "                                                    text      subject  \\\n",
       "0      Donald Trump just couldn t wish all Americans ...         News   \n",
       "1      House Intelligence Committee Chairman Devin Nu...         News   \n",
       "2      On Friday, it was revealed that former Milwauk...         News   \n",
       "3      On Christmas day, Donald Trump announced that ...         News   \n",
       "4      Pope Francis used his annual Christmas Day mes...         News   \n",
       "...                                                  ...          ...   \n",
       "23476  21st Century Wire says As 21WIRE reported earl...  Middle-east   \n",
       "23477  21st Century Wire says It s a familiar theme. ...  Middle-east   \n",
       "23478  Patrick Henningsen  21st Century WireRemember ...  Middle-east   \n",
       "23479  21st Century Wire says Al Jazeera America will...  Middle-east   \n",
       "23480  21st Century Wire says As 21WIRE predicted in ...  Middle-east   \n",
       "\n",
       "                    date  label  \n",
       "0      December 31, 2017      0  \n",
       "1      December 31, 2017      0  \n",
       "2      December 30, 2017      0  \n",
       "3      December 29, 2017      0  \n",
       "4      December 25, 2017      0  \n",
       "...                  ...    ...  \n",
       "23476   January 16, 2016      0  \n",
       "23477   January 16, 2016      0  \n",
       "23478   January 15, 2016      0  \n",
       "23479   January 14, 2016      0  \n",
       "23480   January 12, 2016      0  \n",
       "\n",
       "[23481 rows x 5 columns]"
      ]
     },
     "execution_count": 4,
     "metadata": {},
     "output_type": "execute_result"
    }
   ],
   "source": [
    "Fake"
   ]
  },
  {
   "cell_type": "code",
   "execution_count": 5,
   "id": "740df6cf",
   "metadata": {
    "execution": {
     "iopub.execute_input": "2024-06-11T21:52:44.709163Z",
     "iopub.status.busy": "2024-06-11T21:52:44.708784Z",
     "iopub.status.idle": "2024-06-11T21:52:44.713809Z",
     "shell.execute_reply": "2024-06-11T21:52:44.713082Z"
    },
    "papermill": {
     "duration": 0.020013,
     "end_time": "2024-06-11T21:52:44.715931",
     "exception": false,
     "start_time": "2024-06-11T21:52:44.695918",
     "status": "completed"
    },
    "tags": []
   },
   "outputs": [],
   "source": [
    "true['label']=1"
   ]
  },
  {
   "cell_type": "code",
   "execution_count": 6,
   "id": "1f08fcba",
   "metadata": {
    "execution": {
     "iopub.execute_input": "2024-06-11T21:52:44.741348Z",
     "iopub.status.busy": "2024-06-11T21:52:44.740544Z",
     "iopub.status.idle": "2024-06-11T21:52:44.755037Z",
     "shell.execute_reply": "2024-06-11T21:52:44.754049Z"
    },
    "papermill": {
     "duration": 0.029602,
     "end_time": "2024-06-11T21:52:44.757335",
     "exception": false,
     "start_time": "2024-06-11T21:52:44.727733",
     "status": "completed"
    },
    "tags": []
   },
   "outputs": [
    {
     "data": {
      "text/html": [
       "<div>\n",
       "<style scoped>\n",
       "    .dataframe tbody tr th:only-of-type {\n",
       "        vertical-align: middle;\n",
       "    }\n",
       "\n",
       "    .dataframe tbody tr th {\n",
       "        vertical-align: top;\n",
       "    }\n",
       "\n",
       "    .dataframe thead th {\n",
       "        text-align: right;\n",
       "    }\n",
       "</style>\n",
       "<table border=\"1\" class=\"dataframe\">\n",
       "  <thead>\n",
       "    <tr style=\"text-align: right;\">\n",
       "      <th></th>\n",
       "      <th>title</th>\n",
       "      <th>text</th>\n",
       "      <th>subject</th>\n",
       "      <th>date</th>\n",
       "      <th>label</th>\n",
       "    </tr>\n",
       "  </thead>\n",
       "  <tbody>\n",
       "    <tr>\n",
       "      <th>0</th>\n",
       "      <td>As U.S. budget fight looms, Republicans flip t...</td>\n",
       "      <td>WASHINGTON (Reuters) - The head of a conservat...</td>\n",
       "      <td>politicsNews</td>\n",
       "      <td>December 31, 2017</td>\n",
       "      <td>1</td>\n",
       "    </tr>\n",
       "    <tr>\n",
       "      <th>1</th>\n",
       "      <td>U.S. military to accept transgender recruits o...</td>\n",
       "      <td>WASHINGTON (Reuters) - Transgender people will...</td>\n",
       "      <td>politicsNews</td>\n",
       "      <td>December 29, 2017</td>\n",
       "      <td>1</td>\n",
       "    </tr>\n",
       "    <tr>\n",
       "      <th>2</th>\n",
       "      <td>Senior U.S. Republican senator: 'Let Mr. Muell...</td>\n",
       "      <td>WASHINGTON (Reuters) - The special counsel inv...</td>\n",
       "      <td>politicsNews</td>\n",
       "      <td>December 31, 2017</td>\n",
       "      <td>1</td>\n",
       "    </tr>\n",
       "    <tr>\n",
       "      <th>3</th>\n",
       "      <td>FBI Russia probe helped by Australian diplomat...</td>\n",
       "      <td>WASHINGTON (Reuters) - Trump campaign adviser ...</td>\n",
       "      <td>politicsNews</td>\n",
       "      <td>December 30, 2017</td>\n",
       "      <td>1</td>\n",
       "    </tr>\n",
       "    <tr>\n",
       "      <th>4</th>\n",
       "      <td>Trump wants Postal Service to charge 'much mor...</td>\n",
       "      <td>SEATTLE/WASHINGTON (Reuters) - President Donal...</td>\n",
       "      <td>politicsNews</td>\n",
       "      <td>December 29, 2017</td>\n",
       "      <td>1</td>\n",
       "    </tr>\n",
       "    <tr>\n",
       "      <th>...</th>\n",
       "      <td>...</td>\n",
       "      <td>...</td>\n",
       "      <td>...</td>\n",
       "      <td>...</td>\n",
       "      <td>...</td>\n",
       "    </tr>\n",
       "    <tr>\n",
       "      <th>21412</th>\n",
       "      <td>'Fully committed' NATO backs new U.S. approach...</td>\n",
       "      <td>BRUSSELS (Reuters) - NATO allies on Tuesday we...</td>\n",
       "      <td>worldnews</td>\n",
       "      <td>August 22, 2017</td>\n",
       "      <td>1</td>\n",
       "    </tr>\n",
       "    <tr>\n",
       "      <th>21413</th>\n",
       "      <td>LexisNexis withdrew two products from Chinese ...</td>\n",
       "      <td>LONDON (Reuters) - LexisNexis, a provider of l...</td>\n",
       "      <td>worldnews</td>\n",
       "      <td>August 22, 2017</td>\n",
       "      <td>1</td>\n",
       "    </tr>\n",
       "    <tr>\n",
       "      <th>21414</th>\n",
       "      <td>Minsk cultural hub becomes haven from authorities</td>\n",
       "      <td>MINSK (Reuters) - In the shadow of disused Sov...</td>\n",
       "      <td>worldnews</td>\n",
       "      <td>August 22, 2017</td>\n",
       "      <td>1</td>\n",
       "    </tr>\n",
       "    <tr>\n",
       "      <th>21415</th>\n",
       "      <td>Vatican upbeat on possibility of Pope Francis ...</td>\n",
       "      <td>MOSCOW (Reuters) - Vatican Secretary of State ...</td>\n",
       "      <td>worldnews</td>\n",
       "      <td>August 22, 2017</td>\n",
       "      <td>1</td>\n",
       "    </tr>\n",
       "    <tr>\n",
       "      <th>21416</th>\n",
       "      <td>Indonesia to buy $1.14 billion worth of Russia...</td>\n",
       "      <td>JAKARTA (Reuters) - Indonesia will buy 11 Sukh...</td>\n",
       "      <td>worldnews</td>\n",
       "      <td>August 22, 2017</td>\n",
       "      <td>1</td>\n",
       "    </tr>\n",
       "  </tbody>\n",
       "</table>\n",
       "<p>21417 rows × 5 columns</p>\n",
       "</div>"
      ],
      "text/plain": [
       "                                                   title  \\\n",
       "0      As U.S. budget fight looms, Republicans flip t...   \n",
       "1      U.S. military to accept transgender recruits o...   \n",
       "2      Senior U.S. Republican senator: 'Let Mr. Muell...   \n",
       "3      FBI Russia probe helped by Australian diplomat...   \n",
       "4      Trump wants Postal Service to charge 'much mor...   \n",
       "...                                                  ...   \n",
       "21412  'Fully committed' NATO backs new U.S. approach...   \n",
       "21413  LexisNexis withdrew two products from Chinese ...   \n",
       "21414  Minsk cultural hub becomes haven from authorities   \n",
       "21415  Vatican upbeat on possibility of Pope Francis ...   \n",
       "21416  Indonesia to buy $1.14 billion worth of Russia...   \n",
       "\n",
       "                                                    text       subject  \\\n",
       "0      WASHINGTON (Reuters) - The head of a conservat...  politicsNews   \n",
       "1      WASHINGTON (Reuters) - Transgender people will...  politicsNews   \n",
       "2      WASHINGTON (Reuters) - The special counsel inv...  politicsNews   \n",
       "3      WASHINGTON (Reuters) - Trump campaign adviser ...  politicsNews   \n",
       "4      SEATTLE/WASHINGTON (Reuters) - President Donal...  politicsNews   \n",
       "...                                                  ...           ...   \n",
       "21412  BRUSSELS (Reuters) - NATO allies on Tuesday we...     worldnews   \n",
       "21413  LONDON (Reuters) - LexisNexis, a provider of l...     worldnews   \n",
       "21414  MINSK (Reuters) - In the shadow of disused Sov...     worldnews   \n",
       "21415  MOSCOW (Reuters) - Vatican Secretary of State ...     worldnews   \n",
       "21416  JAKARTA (Reuters) - Indonesia will buy 11 Sukh...     worldnews   \n",
       "\n",
       "                     date  label  \n",
       "0      December 31, 2017       1  \n",
       "1      December 29, 2017       1  \n",
       "2      December 31, 2017       1  \n",
       "3      December 30, 2017       1  \n",
       "4      December 29, 2017       1  \n",
       "...                   ...    ...  \n",
       "21412    August 22, 2017       1  \n",
       "21413    August 22, 2017       1  \n",
       "21414    August 22, 2017       1  \n",
       "21415    August 22, 2017       1  \n",
       "21416    August 22, 2017       1  \n",
       "\n",
       "[21417 rows x 5 columns]"
      ]
     },
     "execution_count": 6,
     "metadata": {},
     "output_type": "execute_result"
    }
   ],
   "source": [
    "true"
   ]
  },
  {
   "cell_type": "code",
   "execution_count": 7,
   "id": "cb16c621",
   "metadata": {
    "execution": {
     "iopub.execute_input": "2024-06-11T21:52:44.784746Z",
     "iopub.status.busy": "2024-06-11T21:52:44.784119Z",
     "iopub.status.idle": "2024-06-11T21:52:44.796902Z",
     "shell.execute_reply": "2024-06-11T21:52:44.795955Z"
    },
    "papermill": {
     "duration": 0.02778,
     "end_time": "2024-06-11T21:52:44.798991",
     "exception": false,
     "start_time": "2024-06-11T21:52:44.771211",
     "status": "completed"
    },
    "tags": []
   },
   "outputs": [],
   "source": [
    "Fake.drop(columns=[\"title\",\"date\",\"subject\"],inplace=True)\n",
    "true.drop(columns=[\"title\",\"date\",\"subject\"],inplace=True)"
   ]
  },
  {
   "cell_type": "code",
   "execution_count": 8,
   "id": "fc1ce865",
   "metadata": {
    "execution": {
     "iopub.execute_input": "2024-06-11T21:52:44.825235Z",
     "iopub.status.busy": "2024-06-11T21:52:44.824875Z",
     "iopub.status.idle": "2024-06-11T21:52:44.835138Z",
     "shell.execute_reply": "2024-06-11T21:52:44.834154Z"
    },
    "papermill": {
     "duration": 0.025937,
     "end_time": "2024-06-11T21:52:44.837350",
     "exception": false,
     "start_time": "2024-06-11T21:52:44.811413",
     "status": "completed"
    },
    "tags": []
   },
   "outputs": [
    {
     "data": {
      "text/html": [
       "<div>\n",
       "<style scoped>\n",
       "    .dataframe tbody tr th:only-of-type {\n",
       "        vertical-align: middle;\n",
       "    }\n",
       "\n",
       "    .dataframe tbody tr th {\n",
       "        vertical-align: top;\n",
       "    }\n",
       "\n",
       "    .dataframe thead th {\n",
       "        text-align: right;\n",
       "    }\n",
       "</style>\n",
       "<table border=\"1\" class=\"dataframe\">\n",
       "  <thead>\n",
       "    <tr style=\"text-align: right;\">\n",
       "      <th></th>\n",
       "      <th>text</th>\n",
       "      <th>label</th>\n",
       "    </tr>\n",
       "  </thead>\n",
       "  <tbody>\n",
       "    <tr>\n",
       "      <th>0</th>\n",
       "      <td>Donald Trump just couldn t wish all Americans ...</td>\n",
       "      <td>0</td>\n",
       "    </tr>\n",
       "    <tr>\n",
       "      <th>1</th>\n",
       "      <td>House Intelligence Committee Chairman Devin Nu...</td>\n",
       "      <td>0</td>\n",
       "    </tr>\n",
       "    <tr>\n",
       "      <th>2</th>\n",
       "      <td>On Friday, it was revealed that former Milwauk...</td>\n",
       "      <td>0</td>\n",
       "    </tr>\n",
       "    <tr>\n",
       "      <th>3</th>\n",
       "      <td>On Christmas day, Donald Trump announced that ...</td>\n",
       "      <td>0</td>\n",
       "    </tr>\n",
       "    <tr>\n",
       "      <th>4</th>\n",
       "      <td>Pope Francis used his annual Christmas Day mes...</td>\n",
       "      <td>0</td>\n",
       "    </tr>\n",
       "  </tbody>\n",
       "</table>\n",
       "</div>"
      ],
      "text/plain": [
       "                                                text  label\n",
       "0  Donald Trump just couldn t wish all Americans ...      0\n",
       "1  House Intelligence Committee Chairman Devin Nu...      0\n",
       "2  On Friday, it was revealed that former Milwauk...      0\n",
       "3  On Christmas day, Donald Trump announced that ...      0\n",
       "4  Pope Francis used his annual Christmas Day mes...      0"
      ]
     },
     "execution_count": 8,
     "metadata": {},
     "output_type": "execute_result"
    }
   ],
   "source": [
    "Fake.head()\n"
   ]
  },
  {
   "cell_type": "code",
   "execution_count": 9,
   "id": "6d8eaee3",
   "metadata": {
    "execution": {
     "iopub.execute_input": "2024-06-11T21:52:44.864185Z",
     "iopub.status.busy": "2024-06-11T21:52:44.863853Z",
     "iopub.status.idle": "2024-06-11T21:52:44.874053Z",
     "shell.execute_reply": "2024-06-11T21:52:44.873060Z"
    },
    "papermill": {
     "duration": 0.025885,
     "end_time": "2024-06-11T21:52:44.876178",
     "exception": false,
     "start_time": "2024-06-11T21:52:44.850293",
     "status": "completed"
    },
    "tags": []
   },
   "outputs": [
    {
     "data": {
      "text/html": [
       "<div>\n",
       "<style scoped>\n",
       "    .dataframe tbody tr th:only-of-type {\n",
       "        vertical-align: middle;\n",
       "    }\n",
       "\n",
       "    .dataframe tbody tr th {\n",
       "        vertical-align: top;\n",
       "    }\n",
       "\n",
       "    .dataframe thead th {\n",
       "        text-align: right;\n",
       "    }\n",
       "</style>\n",
       "<table border=\"1\" class=\"dataframe\">\n",
       "  <thead>\n",
       "    <tr style=\"text-align: right;\">\n",
       "      <th></th>\n",
       "      <th>text</th>\n",
       "      <th>label</th>\n",
       "    </tr>\n",
       "  </thead>\n",
       "  <tbody>\n",
       "    <tr>\n",
       "      <th>0</th>\n",
       "      <td>WASHINGTON (Reuters) - The head of a conservat...</td>\n",
       "      <td>1</td>\n",
       "    </tr>\n",
       "    <tr>\n",
       "      <th>1</th>\n",
       "      <td>WASHINGTON (Reuters) - Transgender people will...</td>\n",
       "      <td>1</td>\n",
       "    </tr>\n",
       "    <tr>\n",
       "      <th>2</th>\n",
       "      <td>WASHINGTON (Reuters) - The special counsel inv...</td>\n",
       "      <td>1</td>\n",
       "    </tr>\n",
       "    <tr>\n",
       "      <th>3</th>\n",
       "      <td>WASHINGTON (Reuters) - Trump campaign adviser ...</td>\n",
       "      <td>1</td>\n",
       "    </tr>\n",
       "    <tr>\n",
       "      <th>4</th>\n",
       "      <td>SEATTLE/WASHINGTON (Reuters) - President Donal...</td>\n",
       "      <td>1</td>\n",
       "    </tr>\n",
       "  </tbody>\n",
       "</table>\n",
       "</div>"
      ],
      "text/plain": [
       "                                                text  label\n",
       "0  WASHINGTON (Reuters) - The head of a conservat...      1\n",
       "1  WASHINGTON (Reuters) - Transgender people will...      1\n",
       "2  WASHINGTON (Reuters) - The special counsel inv...      1\n",
       "3  WASHINGTON (Reuters) - Trump campaign adviser ...      1\n",
       "4  SEATTLE/WASHINGTON (Reuters) - President Donal...      1"
      ]
     },
     "execution_count": 9,
     "metadata": {},
     "output_type": "execute_result"
    }
   ],
   "source": [
    "true.head()"
   ]
  },
  {
   "cell_type": "code",
   "execution_count": 10,
   "id": "9f52b094",
   "metadata": {
    "execution": {
     "iopub.execute_input": "2024-06-11T21:52:44.903715Z",
     "iopub.status.busy": "2024-06-11T21:52:44.902862Z",
     "iopub.status.idle": "2024-06-11T21:52:44.915398Z",
     "shell.execute_reply": "2024-06-11T21:52:44.914385Z"
    },
    "papermill": {
     "duration": 0.028776,
     "end_time": "2024-06-11T21:52:44.917744",
     "exception": false,
     "start_time": "2024-06-11T21:52:44.888968",
     "status": "completed"
    },
    "tags": []
   },
   "outputs": [
    {
     "data": {
      "text/html": [
       "<div>\n",
       "<style scoped>\n",
       "    .dataframe tbody tr th:only-of-type {\n",
       "        vertical-align: middle;\n",
       "    }\n",
       "\n",
       "    .dataframe tbody tr th {\n",
       "        vertical-align: top;\n",
       "    }\n",
       "\n",
       "    .dataframe thead th {\n",
       "        text-align: right;\n",
       "    }\n",
       "</style>\n",
       "<table border=\"1\" class=\"dataframe\">\n",
       "  <thead>\n",
       "    <tr style=\"text-align: right;\">\n",
       "      <th></th>\n",
       "      <th>text</th>\n",
       "      <th>label</th>\n",
       "    </tr>\n",
       "  </thead>\n",
       "  <tbody>\n",
       "    <tr>\n",
       "      <th>0</th>\n",
       "      <td>Donald Trump just couldn t wish all Americans ...</td>\n",
       "      <td>0</td>\n",
       "    </tr>\n",
       "    <tr>\n",
       "      <th>1</th>\n",
       "      <td>House Intelligence Committee Chairman Devin Nu...</td>\n",
       "      <td>0</td>\n",
       "    </tr>\n",
       "    <tr>\n",
       "      <th>2</th>\n",
       "      <td>On Friday, it was revealed that former Milwauk...</td>\n",
       "      <td>0</td>\n",
       "    </tr>\n",
       "    <tr>\n",
       "      <th>3</th>\n",
       "      <td>On Christmas day, Donald Trump announced that ...</td>\n",
       "      <td>0</td>\n",
       "    </tr>\n",
       "    <tr>\n",
       "      <th>4</th>\n",
       "      <td>Pope Francis used his annual Christmas Day mes...</td>\n",
       "      <td>0</td>\n",
       "    </tr>\n",
       "    <tr>\n",
       "      <th>...</th>\n",
       "      <td>...</td>\n",
       "      <td>...</td>\n",
       "    </tr>\n",
       "    <tr>\n",
       "      <th>44893</th>\n",
       "      <td>BRUSSELS (Reuters) - NATO allies on Tuesday we...</td>\n",
       "      <td>1</td>\n",
       "    </tr>\n",
       "    <tr>\n",
       "      <th>44894</th>\n",
       "      <td>LONDON (Reuters) - LexisNexis, a provider of l...</td>\n",
       "      <td>1</td>\n",
       "    </tr>\n",
       "    <tr>\n",
       "      <th>44895</th>\n",
       "      <td>MINSK (Reuters) - In the shadow of disused Sov...</td>\n",
       "      <td>1</td>\n",
       "    </tr>\n",
       "    <tr>\n",
       "      <th>44896</th>\n",
       "      <td>MOSCOW (Reuters) - Vatican Secretary of State ...</td>\n",
       "      <td>1</td>\n",
       "    </tr>\n",
       "    <tr>\n",
       "      <th>44897</th>\n",
       "      <td>JAKARTA (Reuters) - Indonesia will buy 11 Sukh...</td>\n",
       "      <td>1</td>\n",
       "    </tr>\n",
       "  </tbody>\n",
       "</table>\n",
       "<p>44898 rows × 2 columns</p>\n",
       "</div>"
      ],
      "text/plain": [
       "                                                    text  label\n",
       "0      Donald Trump just couldn t wish all Americans ...      0\n",
       "1      House Intelligence Committee Chairman Devin Nu...      0\n",
       "2      On Friday, it was revealed that former Milwauk...      0\n",
       "3      On Christmas day, Donald Trump announced that ...      0\n",
       "4      Pope Francis used his annual Christmas Day mes...      0\n",
       "...                                                  ...    ...\n",
       "44893  BRUSSELS (Reuters) - NATO allies on Tuesday we...      1\n",
       "44894  LONDON (Reuters) - LexisNexis, a provider of l...      1\n",
       "44895  MINSK (Reuters) - In the shadow of disused Sov...      1\n",
       "44896  MOSCOW (Reuters) - Vatican Secretary of State ...      1\n",
       "44897  JAKARTA (Reuters) - Indonesia will buy 11 Sukh...      1\n",
       "\n",
       "[44898 rows x 2 columns]"
      ]
     },
     "execution_count": 10,
     "metadata": {},
     "output_type": "execute_result"
    }
   ],
   "source": [
    "News=pd.concat([Fake,true],ignore_index=True)\n",
    "News"
   ]
  },
  {
   "cell_type": "code",
   "execution_count": 11,
   "id": "bd31b5fd",
   "metadata": {
    "execution": {
     "iopub.execute_input": "2024-06-11T21:52:44.945704Z",
     "iopub.status.busy": "2024-06-11T21:52:44.945337Z",
     "iopub.status.idle": "2024-06-11T21:52:44.973657Z",
     "shell.execute_reply": "2024-06-11T21:52:44.972414Z"
    },
    "papermill": {
     "duration": 0.044255,
     "end_time": "2024-06-11T21:52:44.976043",
     "exception": false,
     "start_time": "2024-06-11T21:52:44.931788",
     "status": "completed"
    },
    "tags": []
   },
   "outputs": [
    {
     "name": "stdout",
     "output_type": "stream",
     "text": [
      "<class 'pandas.core.frame.DataFrame'>\n",
      "RangeIndex: 44898 entries, 0 to 44897\n",
      "Data columns (total 2 columns):\n",
      " #   Column  Non-Null Count  Dtype \n",
      "---  ------  --------------  ----- \n",
      " 0   text    44898 non-null  object\n",
      " 1   label   44898 non-null  int64 \n",
      "dtypes: int64(1), object(1)\n",
      "memory usage: 701.7+ KB\n"
     ]
    }
   ],
   "source": [
    "News.info()\n"
   ]
  },
  {
   "cell_type": "code",
   "execution_count": 12,
   "id": "0f877975",
   "metadata": {
    "execution": {
     "iopub.execute_input": "2024-06-11T21:52:45.003907Z",
     "iopub.status.busy": "2024-06-11T21:52:45.003543Z",
     "iopub.status.idle": "2024-06-11T21:52:45.020074Z",
     "shell.execute_reply": "2024-06-11T21:52:45.019036Z"
    },
    "papermill": {
     "duration": 0.032661,
     "end_time": "2024-06-11T21:52:45.022415",
     "exception": false,
     "start_time": "2024-06-11T21:52:44.989754",
     "status": "completed"
    },
    "tags": []
   },
   "outputs": [
    {
     "data": {
      "text/plain": [
       "text     0\n",
       "label    0\n",
       "dtype: int64"
      ]
     },
     "execution_count": 12,
     "metadata": {},
     "output_type": "execute_result"
    }
   ],
   "source": [
    "News.isnull().sum()\n"
   ]
  },
  {
   "cell_type": "code",
   "execution_count": 13,
   "id": "ddc8a071",
   "metadata": {
    "execution": {
     "iopub.execute_input": "2024-06-11T21:52:45.051576Z",
     "iopub.status.busy": "2024-06-11T21:52:45.051271Z",
     "iopub.status.idle": "2024-06-11T21:52:45.346295Z",
     "shell.execute_reply": "2024-06-11T21:52:45.345168Z"
    },
    "papermill": {
     "duration": 0.31184,
     "end_time": "2024-06-11T21:52:45.348806",
     "exception": false,
     "start_time": "2024-06-11T21:52:45.036966",
     "status": "completed"
    },
    "tags": []
   },
   "outputs": [
    {
     "data": {
      "text/plain": [
       "6251"
      ]
     },
     "execution_count": 13,
     "metadata": {},
     "output_type": "execute_result"
    }
   ],
   "source": [
    "News.duplicated().sum()"
   ]
  },
  {
   "cell_type": "code",
   "execution_count": 14,
   "id": "8bd08d6a",
   "metadata": {
    "execution": {
     "iopub.execute_input": "2024-06-11T21:52:45.380100Z",
     "iopub.status.busy": "2024-06-11T21:52:45.379711Z",
     "iopub.status.idle": "2024-06-11T21:52:45.852558Z",
     "shell.execute_reply": "2024-06-11T21:52:45.851436Z"
    },
    "papermill": {
     "duration": 0.490655,
     "end_time": "2024-06-11T21:52:45.855025",
     "exception": false,
     "start_time": "2024-06-11T21:52:45.364370",
     "status": "completed"
    },
    "tags": []
   },
   "outputs": [
    {
     "data": {
      "text/plain": [
       "0"
      ]
     },
     "execution_count": 14,
     "metadata": {},
     "output_type": "execute_result"
    }
   ],
   "source": [
    "News.drop_duplicates(inplace=True)\n",
    "News.duplicated().sum()"
   ]
  },
  {
   "cell_type": "markdown",
   "id": "6ac318ee",
   "metadata": {
    "papermill": {
     "duration": 0.013064,
     "end_time": "2024-06-11T21:52:45.881403",
     "exception": false,
     "start_time": "2024-06-11T21:52:45.868339",
     "status": "completed"
    },
    "tags": []
   },
   "source": [
    "# preprocessing the text n the data:¶\n"
   ]
  },
  {
   "cell_type": "code",
   "execution_count": 15,
   "id": "42176746",
   "metadata": {
    "execution": {
     "iopub.execute_input": "2024-06-11T21:52:45.909089Z",
     "iopub.status.busy": "2024-06-11T21:52:45.908696Z",
     "iopub.status.idle": "2024-06-11T21:52:50.215455Z",
     "shell.execute_reply": "2024-06-11T21:52:50.214040Z"
    },
    "papermill": {
     "duration": 4.323603,
     "end_time": "2024-06-11T21:52:50.218246",
     "exception": false,
     "start_time": "2024-06-11T21:52:45.894643",
     "status": "completed"
    },
    "tags": []
   },
   "outputs": [
    {
     "name": "stdout",
     "output_type": "stream",
     "text": [
      "[nltk_data] Downloading package wordnet to\n",
      "[nltk_data]     /kaggle/working/nltk_data/...\n",
      "[nltk_data] Downloading package omw-1.4 to\n",
      "[nltk_data]     /kaggle/working/nltk_data/...\n",
      "Archive:  /kaggle/working/nltk_data/corpora/wordnet.zip\r\n",
      "   creating: /kaggle/working/nltk_data/corpora/wordnet/\r\n",
      "  inflating: /kaggle/working/nltk_data/corpora/wordnet/lexnames  \r\n",
      "  inflating: /kaggle/working/nltk_data/corpora/wordnet/data.verb  \r\n",
      "  inflating: /kaggle/working/nltk_data/corpora/wordnet/index.adv  \r\n",
      "  inflating: /kaggle/working/nltk_data/corpora/wordnet/adv.exc  \r\n",
      "  inflating: /kaggle/working/nltk_data/corpora/wordnet/index.verb  \r\n",
      "  inflating: /kaggle/working/nltk_data/corpora/wordnet/cntlist.rev  \r\n",
      "  inflating: /kaggle/working/nltk_data/corpora/wordnet/data.adj  \r\n",
      "  inflating: /kaggle/working/nltk_data/corpora/wordnet/index.adj  \r\n",
      "  inflating: /kaggle/working/nltk_data/corpora/wordnet/LICENSE  \r\n",
      "  inflating: /kaggle/working/nltk_data/corpora/wordnet/citation.bib  \r\n",
      "  inflating: /kaggle/working/nltk_data/corpora/wordnet/noun.exc  \r\n",
      "  inflating: /kaggle/working/nltk_data/corpora/wordnet/verb.exc  \r\n",
      "  inflating: /kaggle/working/nltk_data/corpora/wordnet/README  \r\n",
      "  inflating: /kaggle/working/nltk_data/corpora/wordnet/index.sense  \r\n",
      "  inflating: /kaggle/working/nltk_data/corpora/wordnet/data.noun  \r\n",
      "  inflating: /kaggle/working/nltk_data/corpora/wordnet/data.adv  \r\n",
      "  inflating: /kaggle/working/nltk_data/corpora/wordnet/index.noun  \r\n",
      "  inflating: /kaggle/working/nltk_data/corpora/wordnet/adj.exc  \r\n",
      "Archive:  /kaggle/working/nltk_data/corpora/omw-1.4.zip\r\n",
      "   creating: /kaggle/working/nltk_data/corpora/omw-1.4/\r\n",
      "   creating: /kaggle/working/nltk_data/corpora/omw-1.4/fin/\r\n",
      "  inflating: /kaggle/working/nltk_data/corpora/omw-1.4/fin/LICENSE  \r\n",
      "  inflating: /kaggle/working/nltk_data/corpora/omw-1.4/fin/citation.bib  \r\n",
      "  inflating: /kaggle/working/nltk_data/corpora/omw-1.4/fin/wn-data-fin.tab  \r\n",
      "   creating: /kaggle/working/nltk_data/corpora/omw-1.4/heb/\r\n",
      "  inflating: /kaggle/working/nltk_data/corpora/omw-1.4/heb/LICENSE  \r\n",
      "  inflating: /kaggle/working/nltk_data/corpora/omw-1.4/heb/citation.bib  \r\n",
      "  inflating: /kaggle/working/nltk_data/corpora/omw-1.4/heb/README  \r\n",
      "  inflating: /kaggle/working/nltk_data/corpora/omw-1.4/heb/wn-data-heb.tab  \r\n",
      "   creating: /kaggle/working/nltk_data/corpora/omw-1.4/slv/\r\n",
      "  inflating: /kaggle/working/nltk_data/corpora/omw-1.4/slv/LICENSE  \r\n",
      "  inflating: /kaggle/working/nltk_data/corpora/omw-1.4/slv/citation.bib  \r\n",
      "  inflating: /kaggle/working/nltk_data/corpora/omw-1.4/slv/README  \r\n",
      "  inflating: /kaggle/working/nltk_data/corpora/omw-1.4/slv/wn-data-slv.tab  \r\n",
      "   creating: /kaggle/working/nltk_data/corpora/omw-1.4/ita/\r\n",
      "  inflating: /kaggle/working/nltk_data/corpora/omw-1.4/ita/LICENSE  \r\n",
      "  inflating: /kaggle/working/nltk_data/corpora/omw-1.4/ita/citation.bib  \r\n",
      "  inflating: /kaggle/working/nltk_data/corpora/omw-1.4/ita/wn-data-ita.tab  \r\n",
      " extracting: /kaggle/working/nltk_data/corpora/omw-1.4/ita/README  \r\n",
      "   creating: /kaggle/working/nltk_data/corpora/omw-1.4/nor/\r\n",
      "  inflating: /kaggle/working/nltk_data/corpora/omw-1.4/nor/LICENSE  \r\n",
      "  inflating: /kaggle/working/nltk_data/corpora/omw-1.4/nor/citation.bib  \r\n",
      "  inflating: /kaggle/working/nltk_data/corpora/omw-1.4/nor/README  \r\n",
      "  inflating: /kaggle/working/nltk_data/corpora/omw-1.4/nor/wn-data-nno.tab  \r\n",
      "  inflating: /kaggle/working/nltk_data/corpora/omw-1.4/nor/wn-data-nob.tab  \r\n",
      "   creating: /kaggle/working/nltk_data/corpora/omw-1.4/als/\r\n",
      "  inflating: /kaggle/working/nltk_data/corpora/omw-1.4/als/wn-data-als.tab  \r\n",
      "  inflating: /kaggle/working/nltk_data/corpora/omw-1.4/als/LICENSE  \r\n",
      "  inflating: /kaggle/working/nltk_data/corpora/omw-1.4/als/citation.bib  \r\n",
      "  inflating: /kaggle/working/nltk_data/corpora/omw-1.4/als/README  \r\n",
      "   creating: /kaggle/working/nltk_data/corpora/omw-1.4/pol/\r\n",
      "  inflating: /kaggle/working/nltk_data/corpora/omw-1.4/pol/LICENSE  \r\n",
      "  inflating: /kaggle/working/nltk_data/corpora/omw-1.4/pol/citation.bib  \r\n",
      "  inflating: /kaggle/working/nltk_data/corpora/omw-1.4/pol/wn-data-pol.tab  \r\n",
      "   creating: /kaggle/working/nltk_data/corpora/omw-1.4/hrv/\r\n",
      " extracting: /kaggle/working/nltk_data/corpora/omw-1.4/hrv/LICENSE  \r\n",
      "  inflating: /kaggle/working/nltk_data/corpora/omw-1.4/hrv/citation.bib  \r\n",
      "  inflating: /kaggle/working/nltk_data/corpora/omw-1.4/hrv/wn-data-hrv.tab  \r\n",
      "  inflating: /kaggle/working/nltk_data/corpora/omw-1.4/hrv/README  \r\n",
      "  inflating: /kaggle/working/nltk_data/corpora/omw-1.4/citation.bib  \r\n",
      "   creating: /kaggle/working/nltk_data/corpora/omw-1.4/iwn/\r\n",
      "  inflating: /kaggle/working/nltk_data/corpora/omw-1.4/iwn/LICENSE  \r\n",
      "  inflating: /kaggle/working/nltk_data/corpora/omw-1.4/iwn/citation.bib  \r\n",
      "  inflating: /kaggle/working/nltk_data/corpora/omw-1.4/iwn/wn-data-ita.tab  \r\n",
      "  inflating: /kaggle/working/nltk_data/corpora/omw-1.4/iwn/README  \r\n",
      "   creating: /kaggle/working/nltk_data/corpora/omw-1.4/nld/\r\n",
      "  inflating: /kaggle/working/nltk_data/corpora/omw-1.4/nld/LICENSE  \r\n",
      "  inflating: /kaggle/working/nltk_data/corpora/omw-1.4/nld/wn-data-nld.tab  \r\n",
      "  inflating: /kaggle/working/nltk_data/corpora/omw-1.4/nld/citation.bib  \r\n",
      "   creating: /kaggle/working/nltk_data/corpora/omw-1.4/ron/\r\n",
      "  inflating: /kaggle/working/nltk_data/corpora/omw-1.4/ron/LICENSE  \r\n",
      "  inflating: /kaggle/working/nltk_data/corpora/omw-1.4/ron/citation.bib  \r\n",
      "  inflating: /kaggle/working/nltk_data/corpora/omw-1.4/ron/wn-data-ron.tab  \r\n",
      "  inflating: /kaggle/working/nltk_data/corpora/omw-1.4/ron/README  \r\n",
      "   creating: /kaggle/working/nltk_data/corpora/omw-1.4/arb/\r\n",
      "  inflating: /kaggle/working/nltk_data/corpora/omw-1.4/arb/LICENSE  \r\n",
      "  inflating: /kaggle/working/nltk_data/corpora/omw-1.4/arb/citation.bib  \r\n",
      "  inflating: /kaggle/working/nltk_data/corpora/omw-1.4/arb/README  \r\n",
      "  inflating: /kaggle/working/nltk_data/corpora/omw-1.4/arb/wn-data-arb.tab  \r\n",
      "   creating: /kaggle/working/nltk_data/corpora/omw-1.4/isl/\r\n",
      "  inflating: /kaggle/working/nltk_data/corpora/omw-1.4/isl/LICENSE  \r\n",
      "  inflating: /kaggle/working/nltk_data/corpora/omw-1.4/isl/citation.bib  \r\n",
      "  inflating: /kaggle/working/nltk_data/corpora/omw-1.4/isl/README  \r\n",
      "  inflating: /kaggle/working/nltk_data/corpora/omw-1.4/isl/wn-data-isl.tab  \r\n",
      "   creating: /kaggle/working/nltk_data/corpora/omw-1.4/swe/\r\n",
      "  inflating: /kaggle/working/nltk_data/corpora/omw-1.4/swe/LICENSE  \r\n",
      "  inflating: /kaggle/working/nltk_data/corpora/omw-1.4/swe/citation.bib  \r\n",
      "  inflating: /kaggle/working/nltk_data/corpora/omw-1.4/swe/README  \r\n",
      "  inflating: /kaggle/working/nltk_data/corpora/omw-1.4/swe/wn-data-swe.tab  \r\n",
      "   creating: /kaggle/working/nltk_data/corpora/omw-1.4/por/\r\n",
      "  inflating: /kaggle/working/nltk_data/corpora/omw-1.4/por/LICENSE  \r\n",
      "  inflating: /kaggle/working/nltk_data/corpora/omw-1.4/por/citation.bib  \r\n",
      "  inflating: /kaggle/working/nltk_data/corpora/omw-1.4/por/wn-data-por.tab  \r\n",
      "  inflating: /kaggle/working/nltk_data/corpora/omw-1.4/por/README  \r\n",
      "  inflating: /kaggle/working/nltk_data/corpora/omw-1.4/README  \r\n",
      "   creating: /kaggle/working/nltk_data/corpora/omw-1.4/cow/\r\n",
      "  inflating: /kaggle/working/nltk_data/corpora/omw-1.4/cow/wn-data-cmn.tab  \r\n",
      "  inflating: /kaggle/working/nltk_data/corpora/omw-1.4/cow/LICENSE  \r\n",
      "  inflating: /kaggle/working/nltk_data/corpora/omw-1.4/cow/citation.bib  \r\n",
      "   creating: /kaggle/working/nltk_data/corpora/omw-1.4/jpn/\r\n",
      "  inflating: /kaggle/working/nltk_data/corpora/omw-1.4/jpn/LICENSE  \r\n",
      "  inflating: /kaggle/working/nltk_data/corpora/omw-1.4/jpn/citation.bib  \r\n",
      "  inflating: /kaggle/working/nltk_data/corpora/omw-1.4/jpn/README  \r\n",
      "  inflating: /kaggle/working/nltk_data/corpora/omw-1.4/jpn/wn-data-jpn.tab  \r\n",
      "   creating: /kaggle/working/nltk_data/corpora/omw-1.4/dan/\r\n",
      "  inflating: /kaggle/working/nltk_data/corpora/omw-1.4/dan/LICENSE  \r\n",
      "  inflating: /kaggle/working/nltk_data/corpora/omw-1.4/dan/citation.bib  \r\n",
      "  inflating: /kaggle/working/nltk_data/corpora/omw-1.4/dan/wn-data-dan.tab  \r\n",
      "   creating: /kaggle/working/nltk_data/corpora/omw-1.4/slk/\r\n",
      "  inflating: /kaggle/working/nltk_data/corpora/omw-1.4/slk/LICENSE  \r\n",
      "  inflating: /kaggle/working/nltk_data/corpora/omw-1.4/slk/citation.bib  \r\n",
      "  inflating: /kaggle/working/nltk_data/corpora/omw-1.4/slk/wn-data-slk.tab  \r\n",
      "  inflating: /kaggle/working/nltk_data/corpora/omw-1.4/slk/wn-data-lit.tab  \r\n",
      "  inflating: /kaggle/working/nltk_data/corpora/omw-1.4/slk/README  \r\n",
      "   creating: /kaggle/working/nltk_data/corpora/omw-1.4/bul/\r\n",
      "  inflating: /kaggle/working/nltk_data/corpora/omw-1.4/bul/LICENSE  \r\n",
      "  inflating: /kaggle/working/nltk_data/corpora/omw-1.4/bul/citation.bib  \r\n",
      "  inflating: /kaggle/working/nltk_data/corpora/omw-1.4/bul/wn-data-bul.tab  \r\n",
      "  inflating: /kaggle/working/nltk_data/corpora/omw-1.4/bul/README  \r\n",
      "   creating: /kaggle/working/nltk_data/corpora/omw-1.4/mcr/\r\n",
      "  inflating: /kaggle/working/nltk_data/corpora/omw-1.4/mcr/LICENSE  \r\n",
      "  inflating: /kaggle/working/nltk_data/corpora/omw-1.4/mcr/citation.bib  \r\n",
      "  inflating: /kaggle/working/nltk_data/corpora/omw-1.4/mcr/wn-data-eus.tab  \r\n",
      "  inflating: /kaggle/working/nltk_data/corpora/omw-1.4/mcr/wn-data-cat.tab  \r\n",
      "  inflating: /kaggle/working/nltk_data/corpora/omw-1.4/mcr/wn-data-glg.tab  \r\n",
      "  inflating: /kaggle/working/nltk_data/corpora/omw-1.4/mcr/wn-data-spa.tab  \r\n",
      "   creating: /kaggle/working/nltk_data/corpora/omw-1.4/ell/\r\n",
      "  inflating: /kaggle/working/nltk_data/corpora/omw-1.4/ell/LICENSE  \r\n",
      "  inflating: /kaggle/working/nltk_data/corpora/omw-1.4/ell/wn-data-ell.tab  \r\n",
      "  inflating: /kaggle/working/nltk_data/corpora/omw-1.4/ell/README  \r\n",
      "   creating: /kaggle/working/nltk_data/corpora/omw-1.4/msa/\r\n",
      "  inflating: /kaggle/working/nltk_data/corpora/omw-1.4/msa/LICENSE  \r\n",
      "  inflating: /kaggle/working/nltk_data/corpora/omw-1.4/msa/citation.bib  \r\n",
      "  inflating: /kaggle/working/nltk_data/corpora/omw-1.4/msa/wn-data-zsm.tab  \r\n",
      "  inflating: /kaggle/working/nltk_data/corpora/omw-1.4/msa/wn-data-ind.tab  \r\n",
      "  inflating: /kaggle/working/nltk_data/corpora/omw-1.4/msa/README  \r\n",
      "   creating: /kaggle/working/nltk_data/corpora/omw-1.4/fra/\r\n",
      "  inflating: /kaggle/working/nltk_data/corpora/omw-1.4/fra/LICENSE  \r\n",
      "  inflating: /kaggle/working/nltk_data/corpora/omw-1.4/fra/citation.bib  \r\n",
      "  inflating: /kaggle/working/nltk_data/corpora/omw-1.4/fra/wn-data-fra.tab  \r\n",
      "   creating: /kaggle/working/nltk_data/corpora/omw-1.4/tha/\r\n",
      "  inflating: /kaggle/working/nltk_data/corpora/omw-1.4/tha/LICENSE  \r\n",
      "  inflating: /kaggle/working/nltk_data/corpora/omw-1.4/tha/citation.bib  \r\n",
      "  inflating: /kaggle/working/nltk_data/corpora/omw-1.4/tha/wn-data-tha.tab  \r\n"
     ]
    }
   ],
   "source": [
    "import re\n",
    "import nltk\n",
    "from nltk.tokenize import word_tokenize\n",
    "from nltk.corpus import stopwords\n",
    "from nltk.stem import WordNetLemmatizer\n",
    "import numpy as np\n",
    "nltk.download('wordnet', \"/kaggle/working/nltk_data/\")\n",
    "nltk.download('omw-1.4', \"/kaggle/working/nltk_data/\")\n",
    "! unzip /kaggle/working/nltk_data/corpora/wordnet.zip -d /kaggle/working/nltk_data/corpora\n",
    "! unzip /kaggle/working/nltk_data/corpora/omw-1.4.zip -d /kaggle/working/nltk_data/corpora\n",
    "nltk.data.path.append(\"/kaggle/working/nltk_data/\")"
   ]
  },
  {
   "cell_type": "code",
   "execution_count": 16,
   "id": "ff2bd089",
   "metadata": {
    "execution": {
     "iopub.execute_input": "2024-06-11T21:52:50.252042Z",
     "iopub.status.busy": "2024-06-11T21:52:50.251592Z",
     "iopub.status.idle": "2024-06-11T21:52:50.261639Z",
     "shell.execute_reply": "2024-06-11T21:52:50.260648Z"
    },
    "papermill": {
     "duration": 0.029509,
     "end_time": "2024-06-11T21:52:50.263798",
     "exception": false,
     "start_time": "2024-06-11T21:52:50.234289",
     "status": "completed"
    },
    "tags": []
   },
   "outputs": [],
   "source": [
    "def process_text(text):\n",
    "    text = re.sub(r'\\s+', ' ', text, flags=re.I) # Remove extra white space from text\n",
    "\n",
    "    text = re.sub(r'\\W', ' ', str(text)) # Remove all the special characters from text\n",
    "\n",
    "    text = re.sub(r'\\s+[a-zA-Z]\\s+', ' ', text) # Remove all single characters from text\n",
    "\n",
    "    text = re.sub(r'[^a-zA-Z\\s]', '', text) # Remove any character that isn't alphabetical\n",
    "\n",
    "    text = text.lower()\n",
    "\n",
    "    words = word_tokenize(text)\n",
    "\n",
    "    lemmatizer = WordNetLemmatizer()\n",
    "    words = [lemmatizer.lemmatize(word) for word in words]\n",
    "\n",
    "    stop_words = set(stopwords.words(\"english\"))\n",
    "    Words = [word for word in words if word not in stop_words]\n",
    "\n",
    "    Words = [word for word in Words if len(word) > 3]\n",
    "\n",
    "    indices = np.unique(Words, return_index=True)[1]\n",
    "    cleaned_text = np.array(Words)[np.sort(indices)].tolist()\n",
    "\n",
    "    return cleaned_text"
   ]
  },
  {
   "cell_type": "code",
   "execution_count": 17,
   "id": "614225c6",
   "metadata": {
    "execution": {
     "iopub.execute_input": "2024-06-11T21:52:50.296543Z",
     "iopub.status.busy": "2024-06-11T21:52:50.296142Z",
     "iopub.status.idle": "2024-06-11T21:52:50.340210Z",
     "shell.execute_reply": "2024-06-11T21:52:50.339072Z"
    },
    "papermill": {
     "duration": 0.062603,
     "end_time": "2024-06-11T21:52:50.342424",
     "exception": false,
     "start_time": "2024-06-11T21:52:50.279821",
     "status": "completed"
    },
    "tags": []
   },
   "outputs": [],
   "source": [
    "x=News.drop('label',axis=1)\n",
    "y=News.label"
   ]
  },
  {
   "cell_type": "code",
   "execution_count": 18,
   "id": "f9ccb581",
   "metadata": {
    "execution": {
     "iopub.execute_input": "2024-06-11T21:52:50.376330Z",
     "iopub.status.busy": "2024-06-11T21:52:50.375937Z",
     "iopub.status.idle": "2024-06-11T21:52:50.390278Z",
     "shell.execute_reply": "2024-06-11T21:52:50.389157Z"
    },
    "papermill": {
     "duration": 0.034396,
     "end_time": "2024-06-11T21:52:50.392965",
     "exception": false,
     "start_time": "2024-06-11T21:52:50.358569",
     "status": "completed"
    },
    "tags": []
   },
   "outputs": [],
   "source": [
    "texts=list(x['text'])"
   ]
  },
  {
   "cell_type": "code",
   "execution_count": 19,
   "id": "15b898ee",
   "metadata": {
    "execution": {
     "iopub.execute_input": "2024-06-11T21:52:50.427098Z",
     "iopub.status.busy": "2024-06-11T21:52:50.426685Z",
     "iopub.status.idle": "2024-06-11T21:57:54.695533Z",
     "shell.execute_reply": "2024-06-11T21:57:54.693871Z"
    },
    "papermill": {
     "duration": 304.291752,
     "end_time": "2024-06-11T21:57:54.701521",
     "exception": false,
     "start_time": "2024-06-11T21:52:50.409769",
     "status": "completed"
    },
    "tags": []
   },
   "outputs": [],
   "source": [
    "cleaned_text = [process_text(text) for text in texts]"
   ]
  },
  {
   "cell_type": "code",
   "execution_count": 20,
   "id": "b7b04200",
   "metadata": {
    "execution": {
     "iopub.execute_input": "2024-06-11T21:57:54.752128Z",
     "iopub.status.busy": "2024-06-11T21:57:54.751296Z",
     "iopub.status.idle": "2024-06-11T21:57:54.757703Z",
     "shell.execute_reply": "2024-06-11T21:57:54.756816Z"
    },
    "papermill": {
     "duration": 0.036869,
     "end_time": "2024-06-11T21:57:54.764836",
     "exception": false,
     "start_time": "2024-06-11T21:57:54.727967",
     "status": "completed"
    },
    "tags": []
   },
   "outputs": [
    {
     "name": "stdout",
     "output_type": "stream",
     "text": [
      "[['donald', 'trump', 'wish', 'american', 'happy', 'year', 'leave', 'instead', 'give', 'shout', 'enemy', 'hater', 'dishonest', 'fake', 'news', 'medium', 'former', 'reality', 'show', 'star', 'country', 'rapidly', 'grows', 'stronger', 'smarter', 'want', 'friend', 'supporter', 'even', 'healthy', 'president', 'angry', 'pant', 'tweeted', 'great', 'america', 'realdonaldtrump', 'december', 'tweet', 'went', 'welll', 'expect', 'kind', 'sends', 'greeting', 'like', 'despicable', 'petty', 'infantile', 'gibberish', 'lack', 'decency', 'allow', 'rise', 'gutter', 'long', 'enough', 'citizen', 'bishop', 'talbert', 'swan', 'talbertswan', 'calvin', 'calvinstowell', 'impeachment', 'would', 'make', 'also', 'accept', 'regaining', 'control', 'congress', 'miranda', 'yaver', 'mirandayaver', 'hear', 'talk', 'include', 'many', 'people', 'hate', 'wonder', 'alan', 'sandoval', 'alansandoval', 'word', 'marlene', 'koren', 'pollitt', 'korencarpenter', 'including', 'fought', 'lost', 'badly', 'know', 'love', 'nothing', 'directed', 'message', 'easter', 'thanksgiving', 'anniversary', 'twitter', 'fpaekypa', 'daniel', 'dale', 'ddale', 'holiday', 'clearly', 'presidential', 'work', 'hallmark', 'becoming', 'steven', 'goodine', 'sgoodine', 'always', 'difference', 'last', 'filter', 'breaking', 'schulze', 'thbthttt', 'apart', 'teenager', 'term', 'wendy', 'wendywhistles', 'fucking', 'rainyday', 'voted', 'hole', 'thinking', 'change', 'power', 'wrong', 'older', 'photo', 'andrew', 'burton', 'getty', 'image'], ['house', 'intelligence', 'committee', 'chairman', 'devin', 'nunes', 'going', 'assumption', 'like', 'many', 'christopher', 'steele', 'dossier', 'prompted', 'russia', 'investigation', 'lashing', 'department', 'justice', 'order', 'protect', 'trump', 'happens', 'started', 'according', 'document', 'obtained', 'york', 'time', 'former', 'campaign', 'adviser', 'george', 'papadopoulos', 'drunk', 'wine', 'revealed', 'knowledge', 'russian', 'opposition', 'research', 'hillary', 'clinton', 'covfefe', 'administration', 'alleged', 'much', 'larger', 'role', 'none', 'damning', 'drunken', 'fool', 'coffee', 'help', 'arrange', 'meeting', 'president', 'abdel', 'fattah', 'sisi', 'egypt', 'month', 'election', 'known', 'aide', 'world', 'leader', 'team', 'merely', 'australian', 'diplomat', 'alexander', 'downer', 'official', 'shopping', 'around', 'possible', 'dirt', 'democratic', 'presidential', 'nominee', 'exactly', 'said', 'night', 'kensington', 'room', 'unclear', 'report', 'state', 'later', 'leaked', 'email', 'began', 'appearing', 'online', 'passed', 'information', 'american', 'counterpart', 'four', 'current', 'foreign', 'direct', 'pleaded', 'guilty', 'lying', 'cooperating', 'witness', 'special', 'counsel', 'robert', 'mueller', 'presidency', 'badly', 'scripted', 'reality', 'show', 'photo', 'mcnamee', 'getty', 'image'], ['friday', 'revealed', 'former', 'milwaukee', 'sheriff', 'david', 'clarke', 'considered', 'homeland', 'security', 'secretary', 'donald', 'trump', 'administration', 'email', 'scandal', 'january', 'brief', 'plane', 'fellow', 'passenger', 'black', 'later', 'detained', 'police', 'reason', 'whatsoever', 'except', 'maybe', 'feeling', 'hurt', 'messaged', 'stop', 'deplaned', 'search', 'warrant', 'executed', 'exchange', 'calling', 'fake', 'news', 'even', 'though', 'copy', 'internet', 'unintimidated', 'medium', 'attempt', 'smear', 'discredit', 'report', 'designed', 'silence', 'tweeted', 'continue', 'poke', 'sharp', 'stick', 'bitch', 'slap', 'scum', 'attacked', 'better', 'people', 'maga', 'twitter', 'xtzwpdub', 'sheriffclarke', 'december', 'breaking', 'lying', 'make', 'antidote', 'right', 'punch', 'nose', 'taste', 'blood', 'nothing', 'bully', 'like', 'attention', 'give', 'neverbackdown', 'tnypshcr', 'called', 'local', 'newspaper', 'chose', 'file', 'charge', 'time', 'mean', 'especially', 'month', 'decision', 'filed', 'http', 'zcbycwpb', 'keithleblanc', 'hope', 'rest', 'village', 'implicated', 'kirk', 'ketchum', 'kirkketchum', 'slaw', 'baked', 'potato', 'french', 'fwfxszupxy', 'immigration', 'altuscis', 'ymsobljfxu', 'pendulum', 'swinger', 'pendulumswngr', 'friend', 'stand', 'someone', 'made', 'chris', 'jackson', 'chriscjackson', 'masterful', 'pshop', 'seem', 'never', 'tire', 'think', 'steely', 'resolve', 'visible', 'dwrkzezv', 'mohney', 'chrismohney', 'indicating', 'finger', 'many', 'died', 'jail', 'short', 'dipshit', 'barinholtz', 'ikebarinholtz', 'rofl', 'tough', 'flair', 'ulcfddhkdy', 'kellmecrazy', 'kelmoonface', 'edgy', 'buddy', 'mrssmh', 'break', 'applebees', 'aaron', 'feltrrr', 'trying', 'earn', 'still', 'relevant', 'badge', 'circusrebel', 'circusdrew', 'sure', 'hydrate', 'drink', 'water', 'rumored', 'prisoner', 'denied', 'prison', 'official', 'robert', 'klinc', 'robertklinc', 'terrill', 'thomas', 'year', 'thirst', 'county', 'cell', 'april', 'victim', 'homicide', 'thought', 'point', 'repeated', 'enough', 'photo', 'spencer', 'platt', 'getty', 'image'], ['christmas', 'donald', 'trump', 'announced', 'would', 'back', 'work', 'following', 'golfing', 'fourth', 'former', 'reality', 'show', 'star', 'blasted', 'president', 'barack', 'obama', 'playing', 'golf', 'track', 'outpace', 'number', 'game', 'predecessor', 'played', 'updated', 'tracker', 'appearance', 'property', 'round', 'including', 'today', 'pace', 'first', 'term', 'total', 'july', 'next', 'year', 'http', 'fgvacxrtj', 'twitter', 'gemcjqtbh', 'philip', 'bump', 'pbump', 'december', 'make', 'washington', 'post', 'reporter', 'discovered', 'website', 'really', 'weird', 'everything', 'administration', 'bizarre', 'coding', 'contained', 'reference', 'unlike', 'working', 'problem', 'course', 'however', 'done', 'correctly', 'spent', 'several', 'coded', 'serve', 'message', 'event', 'internal', 'server', 'error', 'zrwpymxrcz', 'wiqsqnnzw', 'christopher', 'ingraham', 'cingraham', 'snippet', 'code', 'appears', 'dkhwalhb', 'page', 'footer', 'paid', 'oazdtb', 'also', 'ayblgmkz', 'others', 'noted', 'thread', 'clear', 'ever', 'actually', 'display', 'know', 'called', 'deleted', 'update', 'removed', 'fixed', 'javascript', 'still', 'since', 'actual', 'presumably', 'different', 'zdmyqsmy', 'suggests', 'someone', 'either', 'admin', 'sensitive', 'enough', 'issue', 'away', 'quickly', 'people', 'noticed', 'idea', 'much', 'love', 'email', 'exchange', 'cked', 'best', 'part', 'using', 'assignment', 'operator', 'mean', 'never', 'look', 'line', 'errorcode', 'always', 'twtrsux', 'coder', 'nobody', 'surprised', 'peterson', 'timrpeterson', 'obsessed', 'name', 'even', 'photo', 'raedle', 'getty', 'image'], ['pope', 'francis', 'used', 'annual', 'christmas', 'message', 'rebuke', 'donald', 'trump', 'without', 'even', 'mentioning', 'name', 'delivered', 'member', 'united', 'nation', 'condemned', 'move', 'recognize', 'jerusalem', 'capital', 'israel', 'pontiff', 'prayed', 'monday', 'peaceful', 'coexistence', 'state', 'within', 'mutually', 'agreed', 'internationally', 'recognized', 'border', 'jesus', 'child', 'middle', 'east', 'continue', 'suffer', 'growing', 'tension', 'israeli', 'palestinian', 'said', 'festive', 'lord', 'peace', 'holy', 'land', 'pray', 'resume', 'dialogue', 'prevail', 'party', 'negotiated', 'solution', 'finally', 'reached', 'went', 'plead', 'acceptance', 'refugee', 'forced', 'home', 'issue', 'continues', 'fight', 'place', 'analogy', 'today', 'wind', 'blowing', 'world', 'outdated', 'model', 'development', 'produce', 'human', 'societal', 'environmental', 'decline', 'invite', 'focus', 'sign', 'face', 'little', 'especially', 'like', 'know', 'well', 'pain', 'welcomed', 'hard', 'head', 'added', 'heart', 'closed', 'bethlehem', 'mary', 'joseph', 'immigrant', 'struggled', 'find', 'safe', 'stay', 'leave', 'people', 'comfortable', 'easy', 'journey', 'young', 'couple', 'full', 'hope', 'expectation', 'born', 'step', 'weighed', 'uncertainty', 'danger', 'attend', 'behind', 'many', 'footstep', 'hidden', 'sunday', 'track', 'entire', 'family', 'million', 'person', 'choose', 'away', 'driven', 'dear', 'amen', 'photo', 'christopher', 'furlong', 'getty', 'image'], ['number', 'case', 'brutalizing', 'killing', 'people', 'color', 'seems', 'another', 'need', 'shared', 'wide', 'alabama', 'woman', 'name', 'angela', 'williams', 'graphic', 'photo', 'lying', 'hospital', 'beaten', 'fractured', 'face', 'facebook', 'unacceptable', 'unclear', 'police', 'custody', 'sort', 'altercation', 'resulted', 'arrest', 'realize', 'detail', 'matter', 'supposed', 'beat', 'brutalize', 'post', 'express', 'hope', 'body', 'camera', 'beating', 'think', 'know', 'kind', 'convenient', 'malfunction', 'explain', 'away', 'lack', 'existence', 'dash', 'footage', 'clearly', 'brutal', 'hell', 'could', 'even', 'described', 'attempted', 'murder', 'something', 'tell', 'young', 'never', 'without', 'troy', 'finest', 'decided', 'appropriate', 'treatment', 'perceived', 'crime', 'might', 'completely', 'jail', 'long', 'time', 'paid', 'vacation', 'force', 'investigates', 'officer', 'returned', 'duty', 'posthaste', 'folk', 'black', 'life', 'would', 'happened', 'white', 'please', 'share', 'stay', 'tuned', 'addicting', 'info', 'update', 'featured', 'image', 'david', 'mcnew', 'stringer', 'getty'], ['donald', 'trump', 'spent', 'good', 'portion', 'golf', 'club', 'marking', 'done', 'since', 'taking', 'oath', 'office', 'must', 'game', 'lashed', 'deputy', 'director', 'andrew', 'mccabe', 'twitter', 'following', 'report', 'saying', 'plan', 'retire', 'month', 'follows', 'testimony', 'front', 'congressional', 'committee', 'week', 'well', 'mounting', 'criticism', 'republican', 'regarding', 'russia', 'probe', 'naturally', 'attacked', 'charge', 'along', 'leakin', 'james', 'comey', 'phony', 'hillary', 'clinton', 'investigation', 'including', 'illegally', 'deleted', 'email', 'given', 'wife', 'campaign', 'puppet', 'tweeted', 'realdonaldtrump', 'december', 'stop', 'racing', 'clock', 'full', 'benefit', 'lawyer', 'baker', 'reassigned', 'according', 'foxnews', 'intel', 'disposal', 'getting', 'information', 'news', 'career', 'fight', 'terrorism', 'called', 'president', 'fact', 'checked', 'claim', 'receiving', 'politifact', 'noted', 'late', 'july', 'tweet', 'significant', 'distortion', 'implication', 'political', 'favor', 'make', 'much', 'sense', 'look', 'evidence', 'rated', 'mostly', 'false', 'repeat', 'know', 'supporter', 'believe', 'without', 'bothering', 'google', 'still', 'though', 'photo', 'zach', 'gibson', 'pool', 'getty', 'image'], ['wake', 'another', 'court', 'decision', 'derailed', 'donald', 'trump', 'plan', 'muslim', 'entering', 'united', 'state', 'york', 'time', 'published', 'report', 'saturday', 'morning', 'detailing', 'president', 'frustration', 'getting', 'back', 'according', 'article', 'june', 'stomped', 'oval', 'office', 'furious', 'travel', 'thought', 'would', 'implemented', 'fully', 'place', 'instead', 'fumed', 'visa', 'already', 'issued', 'immigrant', 'rate', 'friend', 'calling', 'looked', 'like', 'fool', 'making', 'broad', 'pronouncement', 'began', 'reading', 'document', 'advisor', 'noted', 'white', 'supremacist', 'stephen', 'miller', 'handed', 'meeting', 'cabinet', 'page', 'listed', 'many', 'year', 'included', 'afghanistan', 'country', 'haiti', 'also', 'nigeria', 'sensing', 'pattern', 'expressed', 'dismay', 'witness', 'room', 'spoke', 'condition', 'anonymity', 'interviewed', 'along', 'three', 'dozen', 'others', 'called', 'fault', 'read', 'terrorist', 'people', 'never', 'glory', 'america', 'despite', 'extensive', 'research', 'done', 'newspaper', 'house', 'course', 'denies', 'language', 'used', 'given', 'racist', 'history', 'blatant', 'nationalism', 'surprise', 'freedom', 'information', 'request', 'turned', 'question', 'statement', 'printed', 'inline', 'commentary', 'punctuate', 'anger', 'responsible', 'american', 'carnage', 'speech', 'delivered', 'inauguration', 'menace', 'represent', 'anything', 'stand', 'hope', 'indictment', 'robert', 'mueller', 'speak', 'featured', 'image', 'chris', 'kleponis', 'pool', 'getty'], ['many', 'people', 'raised', 'alarm', 'regarding', 'fact', 'donald', 'trump', 'dangerously', 'close', 'becoming', 'autocrat', 'thing', 'democracy', 'become', 'autocracy', 'right', 'nose', 'often', 'look', 'like', 'beginning', 'phase', 'explained', 'republican', 'david', 'frum', 'couple', 'month', 'presidency', 'piece', 'atlantic', 'called', 'build', 'really', 'critically', 'happening', 'systematic', 'discrediting', 'vital', 'institution', 'free', 'press', 'federal', 'bureau', 'investigation', 'well', 'direct', 'weaponization', 'department', 'justice', 'order', 'former', 'political', 'opponent', 'democratic', 'nominee', 'hillary', 'clinton', 'making', 'chamber', 'congress', 'house', 'representative', 'already', 'rogue', 'band', 'running', 'parallel', 'official', 'russian', 'collusion', 'explicit', 'intent', 'undermining', 'idea', 'could', 'possibly', 'done', 'anything', 'wrong', 'swing', 'election', 'favor', 'starter', 'united', 'nation', 'ambassador', 'nikki', 'haley', 'bully', 'threaten', 'country', 'voted', 'decision', 'change', 'policy', 'come', 'recognition', 'jerusalem', 'capital', 'jewish', 'state', 'expert', 'usually', 'quite', 'measured', 'enough', 'autocratic', 'antic', 'director', 'john', 'brennan', 'seasoned', 'took', 'favorite', 'platform', 'twitter', 'blasted', 'admin', 'threat', 'retaliate', 'exercise', 'sovereign', 'oppose', 'position', 'beyond', 'outrageous', 'show', 'realdonaldtrump', 'expects', 'blind', 'loyalty', 'subservience', 'everyone', 'quality', 'found', 'narcissistic', 'vengeful', 'johnbrennan', 'december', 'correct', 'course', 'behaving', 'asleep', 'dangerous', 'greatest', 'fabric', 'republic', 'american', 'president', 'fellow', 'know', 'check', 'supposed', 'time', 'flip', 'senate', 'resist', 'meantime', 'want', 'save', 'devolving', 'something', 'russia', 'north', 'korea', 'america', 'always', 'featured', 'image', 'brendan', 'smialowski', 'getty'], ['might', 'thought', 'break', 'watching', 'people', 'kiss', 'donald', 'trump', 'stroke', 'nauseam', 'group', 'creates', 'nothing', 'even', 'exact', 'thing', 'america', 'first', 'policy', 'release', 'called', 'thank', 'president', 'christmas', 'well', 'threw', 'little', 'mouth', 'trying', 'watch', 'basically', 'spot', 'fawning', 'stuff', 'actually', 'done', 'includes', 'scene', 'girl', 'thanking', 'bringing', 'back', 'merry', 'never', 'went', 'away', 'video', 'obama', 'saying', 'thanks', 'cutting', 'everyday', 'american', 'everywhere', 'great', 'awesome', 'best', 'nobody', 'ever', 'breaking', 'kind', 'record', 'every', 'believe', 'anyway', 'word', 'propaganda', 'come', 'mind', 'literal', 'promoting', 'someone', 'need', 'promotion', 'anymore', 'bullshit', 'magas', 'kowtowing', 'orange', 'hitler', 'disgusting', 'frightening', 'harm', 'unfortunately', 'take', 'obscene', 'amount', 'pain', 'open', 'duped', 'hairdo', 'ongoing', 'adoration', 'unbecoming', 'office', 'vile', 'featured', 'image', 'drago', 'pool', 'getty']]\n"
     ]
    }
   ],
   "source": [
    "print(cleaned_text[:10])"
   ]
  },
  {
   "cell_type": "markdown",
   "id": "a9eb5234",
   "metadata": {
    "papermill": {
     "duration": 0.017793,
     "end_time": "2024-06-11T21:57:54.804765",
     "exception": false,
     "start_time": "2024-06-11T21:57:54.786972",
     "status": "completed"
    },
    "tags": []
   },
   "source": [
    "# split the dataset"
   ]
  },
  {
   "cell_type": "code",
   "execution_count": 21,
   "id": "1d816bfa",
   "metadata": {
    "execution": {
     "iopub.execute_input": "2024-06-11T21:57:54.836851Z",
     "iopub.status.busy": "2024-06-11T21:57:54.836448Z",
     "iopub.status.idle": "2024-06-11T21:57:54.862690Z",
     "shell.execute_reply": "2024-06-11T21:57:54.861649Z"
    },
    "papermill": {
     "duration": 0.045189,
     "end_time": "2024-06-11T21:57:54.865407",
     "exception": false,
     "start_time": "2024-06-11T21:57:54.820218",
     "status": "completed"
    },
    "tags": []
   },
   "outputs": [],
   "source": [
    "from sklearn.model_selection import train_test_split\n",
    "X_train, X_test, y_train, y_test = train_test_split(cleaned_text, y, test_size=0.2, random_state=42)"
   ]
  },
  {
   "cell_type": "code",
   "execution_count": 22,
   "id": "7f952bbb",
   "metadata": {
    "execution": {
     "iopub.execute_input": "2024-06-11T21:57:54.907242Z",
     "iopub.status.busy": "2024-06-11T21:57:54.906253Z",
     "iopub.status.idle": "2024-06-11T21:58:02.700003Z",
     "shell.execute_reply": "2024-06-11T21:58:02.699144Z"
    },
    "papermill": {
     "duration": 7.815584,
     "end_time": "2024-06-11T21:58:02.702537",
     "exception": false,
     "start_time": "2024-06-11T21:57:54.886953",
     "status": "completed"
    },
    "tags": []
   },
   "outputs": [
    {
     "name": "stdout",
     "output_type": "stream",
     "text": [
      "the size of vocab = 91495\n"
     ]
    }
   ],
   "source": [
    "from tensorflow.keras.preprocessing.text import Tokenizer\n",
    "from tensorflow.keras.preprocessing.sequence import pad_sequences\n",
    "\n",
    "\n",
    "tokenizer = Tokenizer()\n",
    "tokenizer.fit_on_texts(X_train)\n",
    "word_idx = tokenizer.word_index  # Corrected syntax for accessing word index\n",
    "v = len(word_idx)\n",
    "print(\"the size of vocab =\", v)  # Corrected spacing\n",
    "X_train = tokenizer.texts_to_sequences(X_train)\n",
    "X_test = tokenizer.texts_to_sequences(X_test)\n"
   ]
  },
  {
   "cell_type": "code",
   "execution_count": 23,
   "id": "1ad36a7c",
   "metadata": {
    "execution": {
     "iopub.execute_input": "2024-06-11T21:58:02.736641Z",
     "iopub.status.busy": "2024-06-11T21:58:02.736279Z",
     "iopub.status.idle": "2024-06-11T21:58:03.280527Z",
     "shell.execute_reply": "2024-06-11T21:58:03.279585Z"
    },
    "papermill": {
     "duration": 0.563952,
     "end_time": "2024-06-11T21:58:03.283124",
     "exception": false,
     "start_time": "2024-06-11T21:58:02.719172",
     "status": "completed"
    },
    "tags": []
   },
   "outputs": [],
   "source": [
    "from tensorflow.keras.preprocessing.sequence import pad_sequences\n",
    "\n",
    "maxlen = 150\n",
    "X_train = pad_sequences(X_train,maxlen=maxlen)\n",
    "X_test = pad_sequences(X_test,maxlen=maxlen)"
   ]
  },
  {
   "cell_type": "code",
   "execution_count": 24,
   "id": "5c187060",
   "metadata": {
    "execution": {
     "iopub.execute_input": "2024-06-11T21:58:03.317758Z",
     "iopub.status.busy": "2024-06-11T21:58:03.317349Z",
     "iopub.status.idle": "2024-06-11T21:58:03.328086Z",
     "shell.execute_reply": "2024-06-11T21:58:03.327067Z"
    },
    "papermill": {
     "duration": 0.030704,
     "end_time": "2024-06-11T21:58:03.330420",
     "exception": false,
     "start_time": "2024-06-11T21:58:03.299716",
     "status": "completed"
    },
    "tags": []
   },
   "outputs": [
    {
     "data": {
      "text/plain": [
       "label\n",
       "1    21192\n",
       "0    17455\n",
       "Name: count, dtype: int64"
      ]
     },
     "execution_count": 24,
     "metadata": {},
     "output_type": "execute_result"
    }
   ],
   "source": [
    "y.value_counts()\n"
   ]
  },
  {
   "cell_type": "code",
   "execution_count": 25,
   "id": "31cb4cc5",
   "metadata": {
    "execution": {
     "iopub.execute_input": "2024-06-11T21:58:03.367703Z",
     "iopub.status.busy": "2024-06-11T21:58:03.366760Z",
     "iopub.status.idle": "2024-06-11T21:58:03.374675Z",
     "shell.execute_reply": "2024-06-11T21:58:03.373818Z"
    },
    "papermill": {
     "duration": 0.02836,
     "end_time": "2024-06-11T21:58:03.376933",
     "exception": false,
     "start_time": "2024-06-11T21:58:03.348573",
     "status": "completed"
    },
    "tags": []
   },
   "outputs": [],
   "source": [
    "from keras.models import Sequential\n",
    "from keras.layers import Embedding, LSTM, Dense,Input,GlobalMaxPooling1D,Dropout\n",
    "from tensorflow.keras.models import Model\n",
    "from keras import optimizers\n",
    "import numpy as np\n",
    "from tensorflow.keras.optimizers import Adam"
   ]
  },
  {
   "cell_type": "code",
   "execution_count": 26,
   "id": "fb548980",
   "metadata": {
    "execution": {
     "iopub.execute_input": "2024-06-11T21:58:03.411466Z",
     "iopub.status.busy": "2024-06-11T21:58:03.411080Z",
     "iopub.status.idle": "2024-06-11T21:58:04.652712Z",
     "shell.execute_reply": "2024-06-11T21:58:04.651641Z"
    },
    "papermill": {
     "duration": 1.2616,
     "end_time": "2024-06-11T21:58:04.655130",
     "exception": false,
     "start_time": "2024-06-11T21:58:03.393530",
     "status": "completed"
    },
    "tags": []
   },
   "outputs": [],
   "source": [
    "inputt=Input(shape=(maxlen,))\n",
    "learning_rate = 0.0001\n",
    "x=Embedding(v+1,100)(inputt)\n",
    "x = Dropout(0.5)(x)\n",
    "x = LSTM(150,return_sequences=True)(x)\n",
    "x = Dropout(0.5)(x)\n",
    "x = GlobalMaxPooling1D()(x)\n",
    "x = Dense(64, activation='relu')(x)\n",
    "x = Dropout(0.5)(x)\n",
    "x = Dense(2, activation='softmax')(x)\n",
    "\n",
    "model = Model(inputt, x)\n",
    "\n",
    "# Define optimizer with specified learning rate\n",
    "optimizer = Adam(learning_rate=learning_rate)\n",
    "\n",
    "model.compile(optimizer=optimizer, loss='categorical_crossentropy', metrics=['accuracy'])"
   ]
  },
  {
   "cell_type": "code",
   "execution_count": 27,
   "id": "8efc74a8",
   "metadata": {
    "execution": {
     "iopub.execute_input": "2024-06-11T21:58:04.687511Z",
     "iopub.status.busy": "2024-06-11T21:58:04.686663Z",
     "iopub.status.idle": "2024-06-11T21:58:04.695403Z",
     "shell.execute_reply": "2024-06-11T21:58:04.694407Z"
    },
    "papermill": {
     "duration": 0.026924,
     "end_time": "2024-06-11T21:58:04.697523",
     "exception": false,
     "start_time": "2024-06-11T21:58:04.670599",
     "status": "completed"
    },
    "tags": []
   },
   "outputs": [],
   "source": [
    "from sklearn.preprocessing import LabelEncoder\n",
    "\n",
    "label_encoder = LabelEncoder()\n",
    "y_train_encoded = label_encoder.fit_transform(y_train)\n",
    "y_test_encoded = label_encoder.transform(y_test)"
   ]
  },
  {
   "cell_type": "code",
   "execution_count": 28,
   "id": "df288a85",
   "metadata": {
    "execution": {
     "iopub.execute_input": "2024-06-11T21:58:04.729166Z",
     "iopub.status.busy": "2024-06-11T21:58:04.728806Z",
     "iopub.status.idle": "2024-06-11T21:58:04.734790Z",
     "shell.execute_reply": "2024-06-11T21:58:04.733981Z"
    },
    "papermill": {
     "duration": 0.024008,
     "end_time": "2024-06-11T21:58:04.736819",
     "exception": false,
     "start_time": "2024-06-11T21:58:04.712811",
     "status": "completed"
    },
    "tags": []
   },
   "outputs": [],
   "source": [
    "import tensorflow as tf\n",
    "\n",
    "y_train_one_hot = tf.keras.utils.to_categorical(y_train_encoded)\n",
    "y_test_one_hot = tf.keras.utils.to_categorical(y_test_encoded)"
   ]
  },
  {
   "cell_type": "code",
   "execution_count": 29,
   "id": "2857d5c3",
   "metadata": {
    "execution": {
     "iopub.execute_input": "2024-06-11T21:58:04.826901Z",
     "iopub.status.busy": "2024-06-11T21:58:04.826497Z",
     "iopub.status.idle": "2024-06-11T22:01:54.927481Z",
     "shell.execute_reply": "2024-06-11T22:01:54.926155Z"
    },
    "papermill": {
     "duration": 230.176677,
     "end_time": "2024-06-11T22:01:54.929948",
     "exception": false,
     "start_time": "2024-06-11T21:58:04.753271",
     "status": "completed"
    },
    "tags": []
   },
   "outputs": [
    {
     "name": "stdout",
     "output_type": "stream",
     "text": [
      "Epoch 1/15\n",
      "\u001b[1m967/967\u001b[0m \u001b[32m━━━━━━━━━━━━━━━━━━━━\u001b[0m\u001b[37m\u001b[0m \u001b[1m20s\u001b[0m 16ms/step - accuracy: 0.6742 - loss: 0.5488 - val_accuracy: 0.9693 - val_loss: 0.1152\n",
      "Epoch 2/15\n",
      "\u001b[1m967/967\u001b[0m \u001b[32m━━━━━━━━━━━━━━━━━━━━\u001b[0m\u001b[37m\u001b[0m \u001b[1m15s\u001b[0m 15ms/step - accuracy: 0.9754 - loss: 0.0770 - val_accuracy: 0.9763 - val_loss: 0.1038\n",
      "Epoch 3/15\n",
      "\u001b[1m967/967\u001b[0m \u001b[32m━━━━━━━━━━━━━━━━━━━━\u001b[0m\u001b[37m\u001b[0m \u001b[1m15s\u001b[0m 15ms/step - accuracy: 0.9880 - loss: 0.0449 - val_accuracy: 0.9768 - val_loss: 0.0898\n",
      "Epoch 4/15\n",
      "\u001b[1m967/967\u001b[0m \u001b[32m━━━━━━━━━━━━━━━━━━━━\u001b[0m\u001b[37m\u001b[0m \u001b[1m15s\u001b[0m 15ms/step - accuracy: 0.9929 - loss: 0.0252 - val_accuracy: 0.9783 - val_loss: 0.0681\n",
      "Epoch 5/15\n",
      "\u001b[1m967/967\u001b[0m \u001b[32m━━━━━━━━━━━━━━━━━━━━\u001b[0m\u001b[37m\u001b[0m \u001b[1m15s\u001b[0m 15ms/step - accuracy: 0.9961 - loss: 0.0157 - val_accuracy: 0.9789 - val_loss: 0.0602\n",
      "Epoch 6/15\n",
      "\u001b[1m967/967\u001b[0m \u001b[32m━━━━━━━━━━━━━━━━━━━━\u001b[0m\u001b[37m\u001b[0m \u001b[1m15s\u001b[0m 16ms/step - accuracy: 0.9972 - loss: 0.0101 - val_accuracy: 0.9794 - val_loss: 0.0594\n",
      "Epoch 7/15\n",
      "\u001b[1m967/967\u001b[0m \u001b[32m━━━━━━━━━━━━━━━━━━━━\u001b[0m\u001b[37m\u001b[0m \u001b[1m15s\u001b[0m 15ms/step - accuracy: 0.9980 - loss: 0.0068 - val_accuracy: 0.9790 - val_loss: 0.0638\n",
      "Epoch 8/15\n",
      "\u001b[1m967/967\u001b[0m \u001b[32m━━━━━━━━━━━━━━━━━━━━\u001b[0m\u001b[37m\u001b[0m \u001b[1m15s\u001b[0m 16ms/step - accuracy: 0.9978 - loss: 0.0071 - val_accuracy: 0.9781 - val_loss: 0.0714\n",
      "Epoch 9/15\n",
      "\u001b[1m967/967\u001b[0m \u001b[32m━━━━━━━━━━━━━━━━━━━━\u001b[0m\u001b[37m\u001b[0m \u001b[1m15s\u001b[0m 15ms/step - accuracy: 0.9978 - loss: 0.0071 - val_accuracy: 0.9779 - val_loss: 0.0624\n",
      "Epoch 10/15\n",
      "\u001b[1m967/967\u001b[0m \u001b[32m━━━━━━━━━━━━━━━━━━━━\u001b[0m\u001b[37m\u001b[0m \u001b[1m15s\u001b[0m 15ms/step - accuracy: 0.9986 - loss: 0.0050 - val_accuracy: 0.9770 - val_loss: 0.0728\n",
      "Epoch 11/15\n",
      "\u001b[1m967/967\u001b[0m \u001b[32m━━━━━━━━━━━━━━━━━━━━\u001b[0m\u001b[37m\u001b[0m \u001b[1m15s\u001b[0m 15ms/step - accuracy: 0.9992 - loss: 0.0024 - val_accuracy: 0.9805 - val_loss: 0.0601\n",
      "Epoch 12/15\n",
      "\u001b[1m967/967\u001b[0m \u001b[32m━━━━━━━━━━━━━━━━━━━━\u001b[0m\u001b[37m\u001b[0m \u001b[1m15s\u001b[0m 15ms/step - accuracy: 0.9997 - loss: 0.0020 - val_accuracy: 0.9788 - val_loss: 0.0746\n",
      "Epoch 13/15\n",
      "\u001b[1m967/967\u001b[0m \u001b[32m━━━━━━━━━━━━━━━━━━━━\u001b[0m\u001b[37m\u001b[0m \u001b[1m15s\u001b[0m 15ms/step - accuracy: 0.9990 - loss: 0.0040 - val_accuracy: 0.9758 - val_loss: 0.0642\n",
      "Epoch 14/15\n",
      "\u001b[1m967/967\u001b[0m \u001b[32m━━━━━━━━━━━━━━━━━━━━\u001b[0m\u001b[37m\u001b[0m \u001b[1m15s\u001b[0m 16ms/step - accuracy: 0.9997 - loss: 0.0016 - val_accuracy: 0.9787 - val_loss: 0.0654\n",
      "Epoch 15/15\n",
      "\u001b[1m967/967\u001b[0m \u001b[32m━━━━━━━━━━━━━━━━━━━━\u001b[0m\u001b[37m\u001b[0m \u001b[1m15s\u001b[0m 15ms/step - accuracy: 0.9997 - loss: 0.0014 - val_accuracy: 0.9789 - val_loss: 0.0700\n"
     ]
    }
   ],
   "source": [
    "history = model.fit(X_train, y_train_one_hot, epochs=15, validation_data=(X_test, y_test_one_hot))"
   ]
  },
  {
   "cell_type": "code",
   "execution_count": 30,
   "id": "02dd78e9",
   "metadata": {
    "execution": {
     "iopub.execute_input": "2024-06-11T22:01:55.620760Z",
     "iopub.status.busy": "2024-06-11T22:01:55.619799Z",
     "iopub.status.idle": "2024-06-11T22:01:56.734656Z",
     "shell.execute_reply": "2024-06-11T22:01:56.733636Z"
    },
    "papermill": {
     "duration": 1.45916,
     "end_time": "2024-06-11T22:01:56.736849",
     "exception": false,
     "start_time": "2024-06-11T22:01:55.277689",
     "status": "completed"
    },
    "tags": []
   },
   "outputs": [
    {
     "data": {
      "image/png": "[encoded data removed]",
      "text/plain": [
       "<Figure size 640x480 with 1 Axes>"
      ]
     },
     "metadata": {},
     "output_type": "display_data"
    },
    {
     "data": {
      "image/png": "[encoded data removed]",
      "text/plain": [
       "<Figure size 640x480 with 1 Axes>"
      ]
     },
     "metadata": {},
     "output_type": "display_data"
    }
   ],
   "source": [
    "import matplotlib.pyplot as plt\n",
    "\n",
    "# Plot training & validation accuracy values\n",
    "plt.plot(history.history['accuracy'])\n",
    "plt.plot(history.history['val_accuracy'])\n",
    "plt.title('Model accuracy')\n",
    "plt.xlabel('Epoch')\n",
    "plt.ylabel('Accuracy')\n",
    "plt.legend(['Train', 'Test'], loc='upper left')\n",
    "plt.show()\n",
    "\n",
    "# Plot training & validation loss values\n",
    "plt.plot(history.history['loss'])\n",
    "plt.plot(history.history['val_loss'])\n",
    "plt.title('Model loss')\n",
    "plt.xlabel('Epoch')\n",
    "plt.ylabel('Loss')\n",
    "plt.legend(['Train', 'Test'], loc='upper left')\n",
    "plt.show()\n"
   ]
  },
  {
   "cell_type": "code",
   "execution_count": 31,
   "id": "83cd7a04",
   "metadata": {
    "execution": {
     "iopub.execute_input": "2024-06-11T22:01:57.484348Z",
     "iopub.status.busy": "2024-06-11T22:01:57.483536Z",
     "iopub.status.idle": "2024-06-11T22:01:58.977790Z",
     "shell.execute_reply": "2024-06-11T22:01:58.976594Z"
    },
    "papermill": {
     "duration": 1.842425,
     "end_time": "2024-06-11T22:01:58.979960",
     "exception": false,
     "start_time": "2024-06-11T22:01:57.137535",
     "status": "completed"
    },
    "tags": []
   },
   "outputs": [
    {
     "name": "stdout",
     "output_type": "stream",
     "text": [
      "\u001b[1m242/242\u001b[0m \u001b[32m━━━━━━━━━━━━━━━━━━━━\u001b[0m\u001b[37m\u001b[0m \u001b[1m1s\u001b[0m 6ms/step - accuracy: 0.9807 - loss: 0.0631\n",
      "Test Loss: 0.07004626840353012\n",
      "Test Accuracy: 0.9789133071899414\n"
     ]
    }
   ],
   "source": [
    "# Evaluate the model on the test data\n",
    "loss, accuracy = model.evaluate(X_test, y_test_one_hot)\n",
    "\n",
    "print(\"Test Loss:\", loss)\n",
    "print(\"Test Accuracy:\", accuracy)"
   ]
  },
  {
   "cell_type": "code",
   "execution_count": 32,
   "id": "193c9db0",
   "metadata": {
    "execution": {
     "iopub.execute_input": "2024-06-11T22:01:59.685750Z",
     "iopub.status.busy": "2024-06-11T22:01:59.685364Z",
     "iopub.status.idle": "2024-06-11T22:02:01.732196Z",
     "shell.execute_reply": "2024-06-11T22:02:01.730960Z"
    },
    "papermill": {
     "duration": 2.397667,
     "end_time": "2024-06-11T22:02:01.734522",
     "exception": false,
     "start_time": "2024-06-11T22:01:59.336855",
     "status": "completed"
    },
    "tags": []
   },
   "outputs": [
    {
     "name": "stdout",
     "output_type": "stream",
     "text": [
      "\u001b[1m242/242\u001b[0m \u001b[32m━━━━━━━━━━━━━━━━━━━━\u001b[0m\u001b[37m\u001b[0m \u001b[1m1s\u001b[0m 4ms/step\n"
     ]
    },
    {
     "data": {
      "image/png": "[encoded data removed]",
      "text/plain": [
       "<Figure size 800x600 with 2 Axes>"
      ]
     },
     "metadata": {},
     "output_type": "display_data"
    }
   ],
   "source": [
    "import matplotlib.pyplot as plt\n",
    "import seaborn as sns\n",
    "from sklearn.metrics import confusion_matrix\n",
    "import numpy as np\n",
    "\n",
    "\n",
    "y_pred_probs = model.predict(X_test)\n",
    "y_pred_labels = np.argmax(y_pred_probs, axis=1)\n",
    "y_true_labels = np.argmax(y_test_one_hot, axis=1)\n",
    "conf_matrix = confusion_matrix(y_true_labels, y_pred_labels)\n",
    "plt.figure(figsize=(8, 6))\n",
    "sns.heatmap(conf_matrix, annot=True, fmt='d', cmap='Blues', \n",
    "            xticklabels=['Fake', 'Real'], \n",
    "            yticklabels=['Fake', 'Real'])\n",
    "plt.xlabel('Predicted')\n",
    "plt.ylabel('True')\n",
    "plt.title('Confusion Matrix')\n",
    "plt.show()"
   ]
  },
  {
   "cell_type": "code",
   "execution_count": 33,
   "id": "a012003f",
   "metadata": {
    "execution": {
     "iopub.execute_input": "2024-06-11T22:02:02.462312Z",
     "iopub.status.busy": "2024-06-11T22:02:02.461940Z",
     "iopub.status.idle": "2024-06-11T22:02:02.749902Z",
     "shell.execute_reply": "2024-06-11T22:02:02.749028Z"
    },
    "papermill": {
     "duration": 0.65467,
     "end_time": "2024-06-11T22:02:02.752354",
     "exception": false,
     "start_time": "2024-06-11T22:02:02.097684",
     "status": "completed"
    },
    "tags": []
   },
   "outputs": [],
   "source": [
    "from tensorflow.keras.models import save_model\n",
    "\n",
    "# Assuming 'model' is your Keras model\n",
    "model.save(\"/kaggle/working/lstm_model.h5\")\n"
   ]
  },
  {
   "cell_type": "code",
   "execution_count": 34,
   "id": "5d3b6254",
   "metadata": {
    "execution": {
     "iopub.execute_input": "2024-06-11T22:02:03.525420Z",
     "iopub.status.busy": "2024-06-11T22:02:03.524595Z",
     "iopub.status.idle": "2024-06-11T22:02:04.379757Z",
     "shell.execute_reply": "2024-06-11T22:02:04.378309Z"
    },
    "papermill": {
     "duration": 1.279361,
     "end_time": "2024-06-11T22:02:04.381885",
     "exception": true,
     "start_time": "2024-06-11T22:02:03.102524",
     "status": "failed"
    },
    "tags": []
   },
   "outputs": [
    {
     "ename": "NameError",
     "evalue": "name 'load_model' is not defined",
     "output_type": "error",
     "traceback": [
      "\u001b[0;31m---------------------------------------------------------------------------\u001b[0m",
      "\u001b[0;31mNameError\u001b[0m                                 Traceback (most recent call last)",
      "Cell \u001b[0;32mIn[34], line 1\u001b[0m\n\u001b[0;32m----> 1\u001b[0m model1 \u001b[38;5;241m=\u001b[39m \u001b[43mload_model\u001b[49m(\u001b[38;5;124m\"\u001b[39m\u001b[38;5;124m/kaggle/working/lstm_model.h5\u001b[39m\u001b[38;5;124m\"\u001b[39m)  \u001b[38;5;66;03m# Change the path if necessary\u001b[39;00m\n\u001b[1;32m      4\u001b[0m \u001b[38;5;28;01mdef\u001b[39;00m \u001b[38;5;21mprocess_text\u001b[39m(text):\n\u001b[1;32m      5\u001b[0m     \u001b[38;5;28;01mif\u001b[39;00m \u001b[38;5;28misinstance\u001b[39m(text, \u001b[38;5;28mstr\u001b[39m):\n",
      "\u001b[0;31mNameError\u001b[0m: name 'load_model' is not defined"
     ]
    }
   ],
   "source": [
    "model1 = load_model(\"/kaggle/working/lstm_model.h5\")  # Change the path if necessary\n",
    "\n",
    "\n",
    "def process_text(text):\n",
    "    if isinstance(text, str):\n",
    "        text = re.sub(r'\\s+', ' ', text, flags=re.I)  # Remove extra white space from text\n",
    "        text = re.sub(r'\\W', ' ', str(text))  # Remove all the special characters from text\n",
    "        text = re.sub(r'\\s+[a-zA-Z]\\s+', ' ', text)  # Remove all single characters from text\n",
    "        text = re.sub(r'[^a-zA-Z\\s]', '', text)  # Remove any character that isn't alphabetical\n",
    "        text = text.lower()\n",
    "\n",
    "        return text\n",
    "    else:\n",
    "        return \"\"\n",
    "\n",
    "# Example text for testing\n",
    "new_text = \"Donald Trump just couldn t wish all Americans a Happy New Year and leave it at that. Instead, he had.\"\n",
    "\n",
    "# Preprocess the new text\n",
    "cleaned_text = process_text(new_text)\n",
    "\n",
    "# Tokenizer\n",
    "tokenizer = Tokenizer()\n",
    "# Convert X_train to list of strings\n",
    "X_train_texts = [process_text(text) for text in X_train]\n",
    "tokenizer.fit_on_texts(X_train_texts)\n",
    "word_idx = tokenizer.word_index\n",
    "print(\"Size of vocabulary:\", len(word_idx))\n",
    "\n",
    "# Convert text to sequences\n",
    "X_new = tokenizer.texts_to_sequences([cleaned_text])\n",
    "\n",
    "# Padding sequences to a fixed length\n",
    "max_sequence_length = 100  # Define your maximum sequence length\n",
    "X_new = pad_sequences(X_new, maxlen=max_sequence_length)\n",
    "\n",
    "# Make predictions\n",
    "y_pred_prob = model1.predict(X_new)\n",
    "y_pred_label = (y_pred_prob > 0.5).astype(int)\n",
    "\n",
    "# Assuming 0 represents 'Fake' and 1 represents 'Real'\n",
    "# You may need to adjust this according to your label encoding\n",
    "class_labels = ['Fake', 'Real']\n",
    "predicted_class = class_labels[y_pred_label[0][0]]\n",
    "\n",
    "# Print prediction\n",
    "print(f\"Predicted Label: {predicted_class}\")\n"
   ]
  },
  {
   "cell_type": "code",
   "execution_count": null,
   "id": "f0563180",
   "metadata": {
    "execution": {
     "iopub.execute_input": "2024-06-11T21:52:00.215611Z",
     "iopub.status.busy": "2024-06-11T21:52:00.214921Z",
     "iopub.status.idle": "2024-06-11T21:52:00.756060Z",
     "shell.execute_reply": "2024-06-11T21:52:00.755183Z",
     "shell.execute_reply.started": "2024-06-11T21:52:00.215578Z"
    },
    "papermill": {
     "duration": null,
     "end_time": null,
     "exception": null,
     "start_time": null,
     "status": "pending"
    },
    "tags": []
   },
   "outputs": [],
   "source": [
    "from tensorflow.keras.models import load_model\n",
    "from tensorflow.keras.preprocessing.text import Tokenizer\n",
    "from tensorflow.keras.preprocessing.sequence import pad_sequences\n",
    "import numpy as np\n",
    "import re\n",
    "\n",
    "# Load the saved model\n",
    "model1= load_model(\"/kaggle/working/lstm_model.h5\")  # Change the path if necessary\n",
    "\n",
    "def process_text(text):\n",
    "    if isinstance(text, str):\n",
    "        text = re.sub(r'\\s+', ' ', text, flags=re.I)  # Remove extra white space from text\n",
    "        text = re.sub(r'\\W', ' ', str(text))  # Remove all the special characters from text\n",
    "        text = re.sub(r'\\s+[a-zA-Z]\\s+', ' ', text)  # Remove all single characters from text\n",
    "        text = re.sub(r'[^a-zA-Z\\s]', '', text)  # Remove any character that isn't alphabetical\n",
    "        text = text.lower()\n",
    "\n",
    "        return text\n",
    "    else:\n",
    "        return \"\"\n",
    "\n",
    "# Example text for testing\n",
    "new_text = \"Donald Trump just couldn't wish all Americans a Happy New Year and leave it at that. Instead, he had.\"\n",
    "\n",
    "# Preprocess the new text\n",
    "cleaned_text = process_text(new_text)\n",
    "\n",
    "# Tokenizer\n",
    "tokenizer = Tokenizer()\n",
    "# Convert X_train to list of strings\n",
    "X_train_texts = [process_text(text) for text in X_train]\n",
    "tokenizer.fit_on_texts(X_train_texts)\n",
    "word_idx = tokenizer.word_index\n",
    "print(\"Size of vocabulary:\", len(word_idx))\n",
    "\n",
    "# Convert text to sequences\n",
    "X_new = tokenizer.texts_to_sequences([cleaned_text])\n",
    "\n",
    "# Padding sequences to a fixed length\n",
    "max_sequence_length = 150  # Adjusted maximum sequence length\n",
    "X_new = pad_sequences(X_new, maxlen=max_sequence_length)\n",
    "\n",
    "# Make predictions\n",
    "y_pred_prob = model1.predict(X_new)\n",
    "y_pred_label = (y_pred_prob > 0.5).astype(int)\n",
    "\n",
    "# Assuming 0 represents 'Fake' and 1 represents 'Real'\n",
    "# You may need to adjust this according to your label encoding\n",
    "class_labels = ['Fake', 'Real']\n",
    "predicted_class = class_labels[y_pred_label[0][0]]\n",
    "\n",
    "# Print prediction\n",
    "print(f\"Predicted Label: {predicted_class}\")\n"
   ]
  },
  {
   "cell_type": "code",
   "execution_count": null,
   "id": "de049ce1",
   "metadata": {
    "papermill": {
     "duration": null,
     "end_time": null,
     "exception": null,
     "start_time": null,
     "status": "pending"
    },
    "tags": []
   },
   "outputs": [],
   "source": []
  }
 ],
 "metadata": {
  "kaggle": {
   "accelerator": "gpu",
   "dataSources": [
    {
     "datasetId": 4831777,
     "sourceId": 8165591,
     "sourceType": "datasetVersion"
    }
   ],
   "dockerImageVersionId": 30733,
   "isGpuEnabled": true,
   "isInternetEnabled": true,
   "language": "python",
   "sourceType": "notebook"
  },
  "kernelspec": {
   "display_name": "Python 3",
   "language": "python",
   "name": "python3"
  },
  "language_info": {
   "codemirror_mode": {
    "name": "ipython",
    "version": 3
   },
   "file_extension": ".py",
   "mimetype": "text/x-python",
   "name": "python",
   "nbconvert_exporter": "python",
   "pygments_lexer": "ipython3",
   "version": "3.10.13"
  },
  "papermill": {
   "default_parameters": {},
   "duration": 583.689019,
   "end_time": "2024-06-11T22:02:07.975008",
   "environment_variables": {},
   "exception": true,
   "input_path": "__notebook__.ipynb",
   "output_path": "__notebook__.ipynb",
   "parameters": {},
   "start_time": "2024-06-11T21:52:24.285989",
   "version": "2.5.0"
  }
 },
 "nbformat": 4,
 "nbformat_minor": 5
}
